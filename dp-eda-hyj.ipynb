{
 "cells": [
  {
   "cell_type": "code",
   "execution_count": null,
   "metadata": {},
   "outputs": [],
   "source": [
    "pwd"
   ]
  },
  {
   "cell_type": "code",
   "execution_count": 2,
   "metadata": {},
   "outputs": [],
   "source": [
    "import numpy as np\n",
    "import matplotlib.pyplot as plt\n",
    "import time, datetime\n",
    "import pandas as pd\n",
    "import seaborn as sns"
   ]
  },
  {
   "cell_type": "markdown",
   "metadata": {},
   "source": [
    "## Data Download"
   ]
  },
  {
   "cell_type": "code",
   "execution_count": 3,
   "metadata": {},
   "outputs": [
    {
     "name": "stdout",
     "output_type": "stream",
     "text": [
      "2021-08-03 02:20:59          0 \n",
      "2021-08-03 02:21:22     294321 Train.csv\n",
      "2021-08-03 02:21:22    9875147 Train_Vehicletravellingdata.csv\n",
      "2021-08-03 02:21:22    9414848 Train_WeatherData.csv\n",
      "2021-08-10 05:21:05   30404669 data_final_hyj.csv\n",
      "2021-08-06 07:52:02   17854225 df.csv\n"
     ]
    }
   ],
   "source": [
    "# Read New Data\n",
    "!aws s3 ls s3://drivingdata/data_raw/"
   ]
  },
  {
   "cell_type": "code",
   "execution_count": 4,
   "metadata": {},
   "outputs": [
    {
     "name": "stdout",
     "output_type": "stream",
     "text": [
      "download: s3://drivingdata/data_raw/Train.csv to raw_data/Train.csv\n",
      "download: s3://drivingdata/data_raw/Train_WeatherData.csv to raw_data/Train_WeatherData.csv\n",
      "download: s3://drivingdata/data_raw/Train_Vehicletravellingdata.csv to raw_data/Train_Vehicletravellingdata.csv\n",
      "download: s3://drivingdata/data_raw/data_final_hyj.csv to raw_data/data_final_hyj.csv\n",
      "download: s3://drivingdata/data_raw/df.csv to raw_data/df.csv    \n"
     ]
    }
   ],
   "source": [
    "# Copy data\n",
    "!aws s3 cp s3://drivingdata/data_raw/ raw_data/ --recursive"
   ]
  },
  {
   "cell_type": "code",
   "execution_count": null,
   "metadata": {},
   "outputs": [],
   "source": []
  },
  {
   "cell_type": "code",
   "execution_count": 5,
   "metadata": {},
   "outputs": [
    {
     "data": {
      "text/html": [
       "<div>\n",
       "<style scoped>\n",
       "    .dataframe tbody tr th:only-of-type {\n",
       "        vertical-align: middle;\n",
       "    }\n",
       "\n",
       "    .dataframe tbody tr th {\n",
       "        vertical-align: top;\n",
       "    }\n",
       "\n",
       "    .dataframe thead th {\n",
       "        text-align: right;\n",
       "    }\n",
       "</style>\n",
       "<table border=\"1\" class=\"dataframe\">\n",
       "  <thead>\n",
       "    <tr style=\"text-align: right;\">\n",
       "      <th></th>\n",
       "      <th>ID</th>\n",
       "      <th>V2</th>\n",
       "      <th>V5</th>\n",
       "      <th>V6</th>\n",
       "      <th>DrivingStyle</th>\n",
       "    </tr>\n",
       "  </thead>\n",
       "  <tbody>\n",
       "    <tr>\n",
       "      <th>0</th>\n",
       "      <td>DR_24526</td>\n",
       "      <td>1265</td>\n",
       "      <td>10243</td>\n",
       "      <td>2</td>\n",
       "      <td>2</td>\n",
       "    </tr>\n",
       "    <tr>\n",
       "      <th>1</th>\n",
       "      <td>DR_30052</td>\n",
       "      <td>1680</td>\n",
       "      <td>30871</td>\n",
       "      <td>6</td>\n",
       "      <td>2</td>\n",
       "    </tr>\n",
       "    <tr>\n",
       "      <th>2</th>\n",
       "      <td>DR_40928</td>\n",
       "      <td>936</td>\n",
       "      <td>3224</td>\n",
       "      <td>4</td>\n",
       "      <td>2</td>\n",
       "    </tr>\n",
       "    <tr>\n",
       "      <th>3</th>\n",
       "      <td>DR_66033</td>\n",
       "      <td>1503</td>\n",
       "      <td>3315</td>\n",
       "      <td>4</td>\n",
       "      <td>2</td>\n",
       "    </tr>\n",
       "    <tr>\n",
       "      <th>4</th>\n",
       "      <td>DR_45266</td>\n",
       "      <td>929</td>\n",
       "      <td>3022</td>\n",
       "      <td>4</td>\n",
       "      <td>2</td>\n",
       "    </tr>\n",
       "    <tr>\n",
       "      <th>...</th>\n",
       "      <td>...</td>\n",
       "      <td>...</td>\n",
       "      <td>...</td>\n",
       "      <td>...</td>\n",
       "      <td>...</td>\n",
       "    </tr>\n",
       "    <tr>\n",
       "      <th>12989</th>\n",
       "      <td>DR_61322</td>\n",
       "      <td>730</td>\n",
       "      <td>3245</td>\n",
       "      <td>2</td>\n",
       "      <td>2</td>\n",
       "    </tr>\n",
       "    <tr>\n",
       "      <th>12990</th>\n",
       "      <td>DR_35712</td>\n",
       "      <td>573</td>\n",
       "      <td>2135</td>\n",
       "      <td>2</td>\n",
       "      <td>3</td>\n",
       "    </tr>\n",
       "    <tr>\n",
       "      <th>12991</th>\n",
       "      <td>DR_61590</td>\n",
       "      <td>1747</td>\n",
       "      <td>31864</td>\n",
       "      <td>6</td>\n",
       "      <td>1</td>\n",
       "    </tr>\n",
       "    <tr>\n",
       "      <th>12992</th>\n",
       "      <td>DR_69505</td>\n",
       "      <td>710</td>\n",
       "      <td>3244</td>\n",
       "      <td>2</td>\n",
       "      <td>2</td>\n",
       "    </tr>\n",
       "    <tr>\n",
       "      <th>12993</th>\n",
       "      <td>DR_56117</td>\n",
       "      <td>2001</td>\n",
       "      <td>27812</td>\n",
       "      <td>6</td>\n",
       "      <td>1</td>\n",
       "    </tr>\n",
       "  </tbody>\n",
       "</table>\n",
       "<p>12994 rows × 5 columns</p>\n",
       "</div>"
      ],
      "text/plain": [
       "             ID    V2     V5  V6  DrivingStyle\n",
       "0      DR_24526  1265  10243   2             2\n",
       "1      DR_30052  1680  30871   6             2\n",
       "2      DR_40928   936   3224   4             2\n",
       "3      DR_66033  1503   3315   4             2\n",
       "4      DR_45266   929   3022   4             2\n",
       "...         ...   ...    ...  ..           ...\n",
       "12989  DR_61322   730   3245   2             2\n",
       "12990  DR_35712   573   2135   2             3\n",
       "12991  DR_61590  1747  31864   6             1\n",
       "12992  DR_69505   710   3244   2             2\n",
       "12993  DR_56117  2001  27812   6             1\n",
       "\n",
       "[12994 rows x 5 columns]"
      ]
     },
     "execution_count": 5,
     "metadata": {},
     "output_type": "execute_result"
    }
   ],
   "source": [
    "df = pd.read_csv(\"raw_data/Train.csv\")\n",
    "df\n",
    "# 12994개\n",
    "# ID, vehicle length(cm), vehicle weight(kg), number of axles, driving style(1-aggressive,2-normal,3-vague)"
   ]
  },
  {
   "cell_type": "code",
   "execution_count": 6,
   "metadata": {},
   "outputs": [
    {
     "data": {
      "text/html": [
       "<div>\n",
       "<style scoped>\n",
       "    .dataframe tbody tr th:only-of-type {\n",
       "        vertical-align: middle;\n",
       "    }\n",
       "\n",
       "    .dataframe tbody tr th {\n",
       "        vertical-align: top;\n",
       "    }\n",
       "\n",
       "    .dataframe thead th {\n",
       "        text-align: right;\n",
       "    }\n",
       "</style>\n",
       "<table border=\"1\" class=\"dataframe\">\n",
       "  <thead>\n",
       "    <tr style=\"text-align: right;\">\n",
       "      <th></th>\n",
       "      <th>ID</th>\n",
       "      <th>V1</th>\n",
       "      <th>V12</th>\n",
       "      <th>V13</th>\n",
       "      <th>V14</th>\n",
       "      <th>V15</th>\n",
       "      <th>V16</th>\n",
       "      <th>V17</th>\n",
       "      <th>V19</th>\n",
       "    </tr>\n",
       "  </thead>\n",
       "  <tbody>\n",
       "    <tr>\n",
       "      <th>0</th>\n",
       "      <td>DR_24526</td>\n",
       "      <td>2012-03-21 09:14:55</td>\n",
       "      <td>7.0</td>\n",
       "      <td>clear</td>\n",
       "      <td>None</td>\n",
       "      <td>95.0</td>\n",
       "      <td>146.0</td>\n",
       "      <td>1.0</td>\n",
       "      <td>daylight</td>\n",
       "    </tr>\n",
       "    <tr>\n",
       "      <th>1</th>\n",
       "      <td>DR_24526</td>\n",
       "      <td>2012-03-21 09:15:07</td>\n",
       "      <td>7.0</td>\n",
       "      <td>clear</td>\n",
       "      <td>None</td>\n",
       "      <td>95.0</td>\n",
       "      <td>124.0</td>\n",
       "      <td>0.0</td>\n",
       "      <td>daylight</td>\n",
       "    </tr>\n",
       "    <tr>\n",
       "      <th>2</th>\n",
       "      <td>DR_24526</td>\n",
       "      <td>2012-03-21 09:15:12</td>\n",
       "      <td>7.0</td>\n",
       "      <td>clear</td>\n",
       "      <td>None</td>\n",
       "      <td>95.0</td>\n",
       "      <td>124.0</td>\n",
       "      <td>0.0</td>\n",
       "      <td>daylight</td>\n",
       "    </tr>\n",
       "    <tr>\n",
       "      <th>3</th>\n",
       "      <td>DR_24526</td>\n",
       "      <td>2012-03-21 09:15:48</td>\n",
       "      <td>7.0</td>\n",
       "      <td>clear</td>\n",
       "      <td>None</td>\n",
       "      <td>95.0</td>\n",
       "      <td>124.0</td>\n",
       "      <td>0.0</td>\n",
       "      <td>daylight</td>\n",
       "    </tr>\n",
       "    <tr>\n",
       "      <th>4</th>\n",
       "      <td>DR_24526</td>\n",
       "      <td>2012-03-21 09:15:54</td>\n",
       "      <td>7.0</td>\n",
       "      <td>clear</td>\n",
       "      <td>None</td>\n",
       "      <td>95.0</td>\n",
       "      <td>124.0</td>\n",
       "      <td>0.0</td>\n",
       "      <td>daylight</td>\n",
       "    </tr>\n",
       "    <tr>\n",
       "      <th>...</th>\n",
       "      <td>...</td>\n",
       "      <td>...</td>\n",
       "      <td>...</td>\n",
       "      <td>...</td>\n",
       "      <td>...</td>\n",
       "      <td>...</td>\n",
       "      <td>...</td>\n",
       "      <td>...</td>\n",
       "      <td>...</td>\n",
       "    </tr>\n",
       "    <tr>\n",
       "      <th>162561</th>\n",
       "      <td>DR_69505</td>\n",
       "      <td>2013-04-30 16:54:41</td>\n",
       "      <td>5.0</td>\n",
       "      <td>rain</td>\n",
       "      <td>Low</td>\n",
       "      <td>89.0</td>\n",
       "      <td>349.0</td>\n",
       "      <td>3.0</td>\n",
       "      <td>night</td>\n",
       "    </tr>\n",
       "    <tr>\n",
       "      <th>162562</th>\n",
       "      <td>DR_69505</td>\n",
       "      <td>2013-04-30 16:55:20</td>\n",
       "      <td>9.0</td>\n",
       "      <td>rain</td>\n",
       "      <td>Low</td>\n",
       "      <td>91.0</td>\n",
       "      <td>45.0</td>\n",
       "      <td>8.0</td>\n",
       "      <td>night</td>\n",
       "    </tr>\n",
       "    <tr>\n",
       "      <th>162563</th>\n",
       "      <td>DR_69505</td>\n",
       "      <td>2013-04-30 16:55:21</td>\n",
       "      <td>9.0</td>\n",
       "      <td>rain</td>\n",
       "      <td>Low</td>\n",
       "      <td>91.0</td>\n",
       "      <td>45.0</td>\n",
       "      <td>8.0</td>\n",
       "      <td>night</td>\n",
       "    </tr>\n",
       "    <tr>\n",
       "      <th>162564</th>\n",
       "      <td>DR_56117</td>\n",
       "      <td>2013-04-30 16:55:23</td>\n",
       "      <td>9.0</td>\n",
       "      <td>snow</td>\n",
       "      <td>Moderate</td>\n",
       "      <td>91.0</td>\n",
       "      <td>45.0</td>\n",
       "      <td>8.0</td>\n",
       "      <td>night</td>\n",
       "    </tr>\n",
       "    <tr>\n",
       "      <th>162565</th>\n",
       "      <td>DR_56117</td>\n",
       "      <td>2013-04-30 16:57:08</td>\n",
       "      <td>9.0</td>\n",
       "      <td>snow</td>\n",
       "      <td>Moderate</td>\n",
       "      <td>91.0</td>\n",
       "      <td>45.0</td>\n",
       "      <td>8.0</td>\n",
       "      <td>night</td>\n",
       "    </tr>\n",
       "  </tbody>\n",
       "</table>\n",
       "<p>162566 rows × 9 columns</p>\n",
       "</div>"
      ],
      "text/plain": [
       "              ID                   V1  V12    V13       V14   V15    V16  V17  \\\n",
       "0       DR_24526  2012-03-21 09:14:55  7.0  clear      None  95.0  146.0  1.0   \n",
       "1       DR_24526  2012-03-21 09:15:07  7.0  clear      None  95.0  124.0  0.0   \n",
       "2       DR_24526  2012-03-21 09:15:12  7.0  clear      None  95.0  124.0  0.0   \n",
       "3       DR_24526  2012-03-21 09:15:48  7.0  clear      None  95.0  124.0  0.0   \n",
       "4       DR_24526  2012-03-21 09:15:54  7.0  clear      None  95.0  124.0  0.0   \n",
       "...          ...                  ...  ...    ...       ...   ...    ...  ...   \n",
       "162561  DR_69505  2013-04-30 16:54:41  5.0   rain       Low  89.0  349.0  3.0   \n",
       "162562  DR_69505  2013-04-30 16:55:20  9.0   rain       Low  91.0   45.0  8.0   \n",
       "162563  DR_69505  2013-04-30 16:55:21  9.0   rain       Low  91.0   45.0  8.0   \n",
       "162564  DR_56117  2013-04-30 16:55:23  9.0   snow  Moderate  91.0   45.0  8.0   \n",
       "162565  DR_56117  2013-04-30 16:57:08  9.0   snow  Moderate  91.0   45.0  8.0   \n",
       "\n",
       "             V19  \n",
       "0       daylight  \n",
       "1       daylight  \n",
       "2       daylight  \n",
       "3       daylight  \n",
       "4       daylight  \n",
       "...          ...  \n",
       "162561     night  \n",
       "162562     night  \n",
       "162563     night  \n",
       "162564     night  \n",
       "162565     night  \n",
       "\n",
       "[162566 rows x 9 columns]"
      ]
     },
     "execution_count": 6,
     "metadata": {},
     "output_type": "execute_result"
    }
   ],
   "source": [
    "df_weather = pd.read_csv(\"raw_data/Train_WeatherData.csv\")\n",
    "df_weather\n",
    "# 162566개\n",
    "# ID, date, "
   ]
  },
  {
   "cell_type": "code",
   "execution_count": 7,
   "metadata": {},
   "outputs": [
    {
     "data": {
      "text/html": [
       "<div>\n",
       "<style scoped>\n",
       "    .dataframe tbody tr th:only-of-type {\n",
       "        vertical-align: middle;\n",
       "    }\n",
       "\n",
       "    .dataframe tbody tr th {\n",
       "        vertical-align: top;\n",
       "    }\n",
       "\n",
       "    .dataframe thead th {\n",
       "        text-align: right;\n",
       "    }\n",
       "</style>\n",
       "<table border=\"1\" class=\"dataframe\">\n",
       "  <thead>\n",
       "    <tr style=\"text-align: right;\">\n",
       "      <th></th>\n",
       "      <th>ID</th>\n",
       "      <th>V1</th>\n",
       "      <th>V3</th>\n",
       "      <th>V4</th>\n",
       "      <th>V7</th>\n",
       "      <th>V8</th>\n",
       "      <th>V9</th>\n",
       "      <th>V10</th>\n",
       "      <th>V11</th>\n",
       "      <th>V18</th>\n",
       "    </tr>\n",
       "  </thead>\n",
       "  <tbody>\n",
       "    <tr>\n",
       "      <th>0</th>\n",
       "      <td>DR_24526</td>\n",
       "      <td>2012-03-21 09:14:55</td>\n",
       "      <td>1</td>\n",
       "      <td>81</td>\n",
       "      <td>57227</td>\n",
       "      <td>87</td>\n",
       "      <td>16986</td>\n",
       "      <td>941</td>\n",
       "      <td>94.0</td>\n",
       "      <td>Dry</td>\n",
       "    </tr>\n",
       "    <tr>\n",
       "      <th>1</th>\n",
       "      <td>DR_24526</td>\n",
       "      <td>2012-03-21 09:15:07</td>\n",
       "      <td>1</td>\n",
       "      <td>88</td>\n",
       "      <td>57229</td>\n",
       "      <td>81</td>\n",
       "      <td>1708</td>\n",
       "      <td>551</td>\n",
       "      <td>11.0</td>\n",
       "      <td>Dry</td>\n",
       "    </tr>\n",
       "    <tr>\n",
       "      <th>2</th>\n",
       "      <td>DR_24526</td>\n",
       "      <td>2012-03-21 09:15:12</td>\n",
       "      <td>1</td>\n",
       "      <td>88</td>\n",
       "      <td>57230</td>\n",
       "      <td>88</td>\n",
       "      <td>22892</td>\n",
       "      <td>1698</td>\n",
       "      <td>4.0</td>\n",
       "      <td>Dry</td>\n",
       "    </tr>\n",
       "    <tr>\n",
       "      <th>3</th>\n",
       "      <td>DR_24526</td>\n",
       "      <td>2012-03-21 09:15:48</td>\n",
       "      <td>2</td>\n",
       "      <td>84</td>\n",
       "      <td>57228</td>\n",
       "      <td>89</td>\n",
       "      <td>1945</td>\n",
       "      <td>544</td>\n",
       "      <td>127.0</td>\n",
       "      <td>Dry</td>\n",
       "    </tr>\n",
       "    <tr>\n",
       "      <th>4</th>\n",
       "      <td>DR_24526</td>\n",
       "      <td>2012-03-21 09:15:54</td>\n",
       "      <td>1</td>\n",
       "      <td>89</td>\n",
       "      <td>57231</td>\n",
       "      <td>88</td>\n",
       "      <td>13787</td>\n",
       "      <td>1893</td>\n",
       "      <td>42.0</td>\n",
       "      <td>Dry</td>\n",
       "    </tr>\n",
       "    <tr>\n",
       "      <th>...</th>\n",
       "      <td>...</td>\n",
       "      <td>...</td>\n",
       "      <td>...</td>\n",
       "      <td>...</td>\n",
       "      <td>...</td>\n",
       "      <td>...</td>\n",
       "      <td>...</td>\n",
       "      <td>...</td>\n",
       "      <td>...</td>\n",
       "      <td>...</td>\n",
       "    </tr>\n",
       "    <tr>\n",
       "      <th>162561</th>\n",
       "      <td>DR_69505</td>\n",
       "      <td>2013-04-30 16:54:41</td>\n",
       "      <td>1</td>\n",
       "      <td>88</td>\n",
       "      <td>794432</td>\n",
       "      <td>87</td>\n",
       "      <td>14577</td>\n",
       "      <td>1063</td>\n",
       "      <td>3.0</td>\n",
       "      <td>Dry</td>\n",
       "    </tr>\n",
       "    <tr>\n",
       "      <th>162562</th>\n",
       "      <td>DR_69505</td>\n",
       "      <td>2013-04-30 16:55:20</td>\n",
       "      <td>2</td>\n",
       "      <td>68</td>\n",
       "      <td>794429</td>\n",
       "      <td>83</td>\n",
       "      <td>10728</td>\n",
       "      <td>1896</td>\n",
       "      <td>124.0</td>\n",
       "      <td>Dry</td>\n",
       "    </tr>\n",
       "    <tr>\n",
       "      <th>162563</th>\n",
       "      <td>DR_69505</td>\n",
       "      <td>2013-04-30 16:55:21</td>\n",
       "      <td>1</td>\n",
       "      <td>73</td>\n",
       "      <td>794433</td>\n",
       "      <td>88</td>\n",
       "      <td>2046</td>\n",
       "      <td>572</td>\n",
       "      <td>39.0</td>\n",
       "      <td>Dry</td>\n",
       "    </tr>\n",
       "    <tr>\n",
       "      <th>162564</th>\n",
       "      <td>DR_56117</td>\n",
       "      <td>2013-04-30 16:55:23</td>\n",
       "      <td>2</td>\n",
       "      <td>69</td>\n",
       "      <td>794434</td>\n",
       "      <td>68</td>\n",
       "      <td>3244</td>\n",
       "      <td>710</td>\n",
       "      <td>1.0</td>\n",
       "      <td>Dry</td>\n",
       "    </tr>\n",
       "    <tr>\n",
       "      <th>162565</th>\n",
       "      <td>DR_56117</td>\n",
       "      <td>2013-04-30 16:57:08</td>\n",
       "      <td>1</td>\n",
       "      <td>86</td>\n",
       "      <td>794435</td>\n",
       "      <td>73</td>\n",
       "      <td>1167</td>\n",
       "      <td>535</td>\n",
       "      <td>107.0</td>\n",
       "      <td>Dry</td>\n",
       "    </tr>\n",
       "  </tbody>\n",
       "</table>\n",
       "<p>162566 rows × 10 columns</p>\n",
       "</div>"
      ],
      "text/plain": [
       "              ID                   V1  V3  V4      V7  V8     V9   V10    V11  \\\n",
       "0       DR_24526  2012-03-21 09:14:55   1  81   57227  87  16986   941   94.0   \n",
       "1       DR_24526  2012-03-21 09:15:07   1  88   57229  81   1708   551   11.0   \n",
       "2       DR_24526  2012-03-21 09:15:12   1  88   57230  88  22892  1698    4.0   \n",
       "3       DR_24526  2012-03-21 09:15:48   2  84   57228  89   1945   544  127.0   \n",
       "4       DR_24526  2012-03-21 09:15:54   1  89   57231  88  13787  1893   42.0   \n",
       "...          ...                  ...  ..  ..     ...  ..    ...   ...    ...   \n",
       "162561  DR_69505  2013-04-30 16:54:41   1  88  794432  87  14577  1063    3.0   \n",
       "162562  DR_69505  2013-04-30 16:55:20   2  68  794429  83  10728  1896  124.0   \n",
       "162563  DR_69505  2013-04-30 16:55:21   1  73  794433  88   2046   572   39.0   \n",
       "162564  DR_56117  2013-04-30 16:55:23   2  69  794434  68   3244   710    1.0   \n",
       "162565  DR_56117  2013-04-30 16:57:08   1  86  794435  73   1167   535  107.0   \n",
       "\n",
       "        V18  \n",
       "0       Dry  \n",
       "1       Dry  \n",
       "2       Dry  \n",
       "3       Dry  \n",
       "4       Dry  \n",
       "...     ...  \n",
       "162561  Dry  \n",
       "162562  Dry  \n",
       "162563  Dry  \n",
       "162564  Dry  \n",
       "162565  Dry  \n",
       "\n",
       "[162566 rows x 10 columns]"
      ]
     },
     "execution_count": 7,
     "metadata": {},
     "output_type": "execute_result"
    }
   ],
   "source": [
    "df_vehicle = pd.read_csv(\"raw_data/Train_Vehicletravellingdata.csv\")\n",
    "df_vehicle\n",
    "# 162566개"
   ]
  },
  {
   "cell_type": "markdown",
   "metadata": {},
   "source": [
    "## Data Merge"
   ]
  },
  {
   "cell_type": "code",
   "execution_count": 8,
   "metadata": {},
   "outputs": [
    {
     "data": {
      "text/html": [
       "<div>\n",
       "<style scoped>\n",
       "    .dataframe tbody tr th:only-of-type {\n",
       "        vertical-align: middle;\n",
       "    }\n",
       "\n",
       "    .dataframe tbody tr th {\n",
       "        vertical-align: top;\n",
       "    }\n",
       "\n",
       "    .dataframe thead th {\n",
       "        text-align: right;\n",
       "    }\n",
       "</style>\n",
       "<table border=\"1\" class=\"dataframe\">\n",
       "  <thead>\n",
       "    <tr style=\"text-align: right;\">\n",
       "      <th></th>\n",
       "      <th>ID</th>\n",
       "      <th>V1</th>\n",
       "      <th>V12</th>\n",
       "      <th>V13</th>\n",
       "      <th>V14</th>\n",
       "      <th>V15</th>\n",
       "      <th>V16</th>\n",
       "      <th>V17</th>\n",
       "      <th>V19</th>\n",
       "      <th>V3</th>\n",
       "      <th>V4</th>\n",
       "      <th>V7</th>\n",
       "      <th>V8</th>\n",
       "      <th>V9</th>\n",
       "      <th>V10</th>\n",
       "      <th>V11</th>\n",
       "      <th>V18</th>\n",
       "    </tr>\n",
       "  </thead>\n",
       "  <tbody>\n",
       "    <tr>\n",
       "      <th>0</th>\n",
       "      <td>DR_24526</td>\n",
       "      <td>2012-03-21 09:14:55</td>\n",
       "      <td>7.0</td>\n",
       "      <td>clear</td>\n",
       "      <td>None</td>\n",
       "      <td>95.0</td>\n",
       "      <td>146.0</td>\n",
       "      <td>1.0</td>\n",
       "      <td>daylight</td>\n",
       "      <td>1</td>\n",
       "      <td>81</td>\n",
       "      <td>57227</td>\n",
       "      <td>87</td>\n",
       "      <td>16986</td>\n",
       "      <td>941</td>\n",
       "      <td>94.0</td>\n",
       "      <td>Dry</td>\n",
       "    </tr>\n",
       "    <tr>\n",
       "      <th>1</th>\n",
       "      <td>DR_24526</td>\n",
       "      <td>2012-03-21 09:15:07</td>\n",
       "      <td>7.0</td>\n",
       "      <td>clear</td>\n",
       "      <td>None</td>\n",
       "      <td>95.0</td>\n",
       "      <td>124.0</td>\n",
       "      <td>0.0</td>\n",
       "      <td>daylight</td>\n",
       "      <td>1</td>\n",
       "      <td>88</td>\n",
       "      <td>57229</td>\n",
       "      <td>81</td>\n",
       "      <td>1708</td>\n",
       "      <td>551</td>\n",
       "      <td>11.0</td>\n",
       "      <td>Dry</td>\n",
       "    </tr>\n",
       "    <tr>\n",
       "      <th>2</th>\n",
       "      <td>DR_24526</td>\n",
       "      <td>2012-03-21 09:15:12</td>\n",
       "      <td>7.0</td>\n",
       "      <td>clear</td>\n",
       "      <td>None</td>\n",
       "      <td>95.0</td>\n",
       "      <td>124.0</td>\n",
       "      <td>0.0</td>\n",
       "      <td>daylight</td>\n",
       "      <td>1</td>\n",
       "      <td>88</td>\n",
       "      <td>57230</td>\n",
       "      <td>88</td>\n",
       "      <td>22892</td>\n",
       "      <td>1698</td>\n",
       "      <td>4.0</td>\n",
       "      <td>Dry</td>\n",
       "    </tr>\n",
       "    <tr>\n",
       "      <th>3</th>\n",
       "      <td>DR_24526</td>\n",
       "      <td>2012-03-21 09:15:48</td>\n",
       "      <td>7.0</td>\n",
       "      <td>clear</td>\n",
       "      <td>None</td>\n",
       "      <td>95.0</td>\n",
       "      <td>124.0</td>\n",
       "      <td>0.0</td>\n",
       "      <td>daylight</td>\n",
       "      <td>2</td>\n",
       "      <td>84</td>\n",
       "      <td>57228</td>\n",
       "      <td>89</td>\n",
       "      <td>1945</td>\n",
       "      <td>544</td>\n",
       "      <td>127.0</td>\n",
       "      <td>Dry</td>\n",
       "    </tr>\n",
       "    <tr>\n",
       "      <th>4</th>\n",
       "      <td>DR_24526</td>\n",
       "      <td>2012-03-21 09:15:54</td>\n",
       "      <td>7.0</td>\n",
       "      <td>clear</td>\n",
       "      <td>None</td>\n",
       "      <td>95.0</td>\n",
       "      <td>124.0</td>\n",
       "      <td>0.0</td>\n",
       "      <td>daylight</td>\n",
       "      <td>1</td>\n",
       "      <td>89</td>\n",
       "      <td>57231</td>\n",
       "      <td>88</td>\n",
       "      <td>13787</td>\n",
       "      <td>1893</td>\n",
       "      <td>42.0</td>\n",
       "      <td>Dry</td>\n",
       "    </tr>\n",
       "    <tr>\n",
       "      <th>...</th>\n",
       "      <td>...</td>\n",
       "      <td>...</td>\n",
       "      <td>...</td>\n",
       "      <td>...</td>\n",
       "      <td>...</td>\n",
       "      <td>...</td>\n",
       "      <td>...</td>\n",
       "      <td>...</td>\n",
       "      <td>...</td>\n",
       "      <td>...</td>\n",
       "      <td>...</td>\n",
       "      <td>...</td>\n",
       "      <td>...</td>\n",
       "      <td>...</td>\n",
       "      <td>...</td>\n",
       "      <td>...</td>\n",
       "      <td>...</td>\n",
       "    </tr>\n",
       "    <tr>\n",
       "      <th>162561</th>\n",
       "      <td>DR_69505</td>\n",
       "      <td>2013-04-30 16:54:41</td>\n",
       "      <td>5.0</td>\n",
       "      <td>rain</td>\n",
       "      <td>Low</td>\n",
       "      <td>89.0</td>\n",
       "      <td>349.0</td>\n",
       "      <td>3.0</td>\n",
       "      <td>night</td>\n",
       "      <td>1</td>\n",
       "      <td>88</td>\n",
       "      <td>794432</td>\n",
       "      <td>87</td>\n",
       "      <td>14577</td>\n",
       "      <td>1063</td>\n",
       "      <td>3.0</td>\n",
       "      <td>Dry</td>\n",
       "    </tr>\n",
       "    <tr>\n",
       "      <th>162562</th>\n",
       "      <td>DR_69505</td>\n",
       "      <td>2013-04-30 16:55:20</td>\n",
       "      <td>9.0</td>\n",
       "      <td>rain</td>\n",
       "      <td>Low</td>\n",
       "      <td>91.0</td>\n",
       "      <td>45.0</td>\n",
       "      <td>8.0</td>\n",
       "      <td>night</td>\n",
       "      <td>2</td>\n",
       "      <td>68</td>\n",
       "      <td>794429</td>\n",
       "      <td>83</td>\n",
       "      <td>10728</td>\n",
       "      <td>1896</td>\n",
       "      <td>124.0</td>\n",
       "      <td>Dry</td>\n",
       "    </tr>\n",
       "    <tr>\n",
       "      <th>162563</th>\n",
       "      <td>DR_69505</td>\n",
       "      <td>2013-04-30 16:55:21</td>\n",
       "      <td>9.0</td>\n",
       "      <td>rain</td>\n",
       "      <td>Low</td>\n",
       "      <td>91.0</td>\n",
       "      <td>45.0</td>\n",
       "      <td>8.0</td>\n",
       "      <td>night</td>\n",
       "      <td>1</td>\n",
       "      <td>73</td>\n",
       "      <td>794433</td>\n",
       "      <td>88</td>\n",
       "      <td>2046</td>\n",
       "      <td>572</td>\n",
       "      <td>39.0</td>\n",
       "      <td>Dry</td>\n",
       "    </tr>\n",
       "    <tr>\n",
       "      <th>162564</th>\n",
       "      <td>DR_56117</td>\n",
       "      <td>2013-04-30 16:55:23</td>\n",
       "      <td>9.0</td>\n",
       "      <td>snow</td>\n",
       "      <td>Moderate</td>\n",
       "      <td>91.0</td>\n",
       "      <td>45.0</td>\n",
       "      <td>8.0</td>\n",
       "      <td>night</td>\n",
       "      <td>2</td>\n",
       "      <td>69</td>\n",
       "      <td>794434</td>\n",
       "      <td>68</td>\n",
       "      <td>3244</td>\n",
       "      <td>710</td>\n",
       "      <td>1.0</td>\n",
       "      <td>Dry</td>\n",
       "    </tr>\n",
       "    <tr>\n",
       "      <th>162565</th>\n",
       "      <td>DR_56117</td>\n",
       "      <td>2013-04-30 16:57:08</td>\n",
       "      <td>9.0</td>\n",
       "      <td>snow</td>\n",
       "      <td>Moderate</td>\n",
       "      <td>91.0</td>\n",
       "      <td>45.0</td>\n",
       "      <td>8.0</td>\n",
       "      <td>night</td>\n",
       "      <td>1</td>\n",
       "      <td>86</td>\n",
       "      <td>794435</td>\n",
       "      <td>73</td>\n",
       "      <td>1167</td>\n",
       "      <td>535</td>\n",
       "      <td>107.0</td>\n",
       "      <td>Dry</td>\n",
       "    </tr>\n",
       "  </tbody>\n",
       "</table>\n",
       "<p>162566 rows × 17 columns</p>\n",
       "</div>"
      ],
      "text/plain": [
       "              ID                   V1  V12    V13       V14   V15    V16  V17  \\\n",
       "0       DR_24526  2012-03-21 09:14:55  7.0  clear      None  95.0  146.0  1.0   \n",
       "1       DR_24526  2012-03-21 09:15:07  7.0  clear      None  95.0  124.0  0.0   \n",
       "2       DR_24526  2012-03-21 09:15:12  7.0  clear      None  95.0  124.0  0.0   \n",
       "3       DR_24526  2012-03-21 09:15:48  7.0  clear      None  95.0  124.0  0.0   \n",
       "4       DR_24526  2012-03-21 09:15:54  7.0  clear      None  95.0  124.0  0.0   \n",
       "...          ...                  ...  ...    ...       ...   ...    ...  ...   \n",
       "162561  DR_69505  2013-04-30 16:54:41  5.0   rain       Low  89.0  349.0  3.0   \n",
       "162562  DR_69505  2013-04-30 16:55:20  9.0   rain       Low  91.0   45.0  8.0   \n",
       "162563  DR_69505  2013-04-30 16:55:21  9.0   rain       Low  91.0   45.0  8.0   \n",
       "162564  DR_56117  2013-04-30 16:55:23  9.0   snow  Moderate  91.0   45.0  8.0   \n",
       "162565  DR_56117  2013-04-30 16:57:08  9.0   snow  Moderate  91.0   45.0  8.0   \n",
       "\n",
       "             V19  V3  V4      V7  V8     V9   V10    V11  V18  \n",
       "0       daylight   1  81   57227  87  16986   941   94.0  Dry  \n",
       "1       daylight   1  88   57229  81   1708   551   11.0  Dry  \n",
       "2       daylight   1  88   57230  88  22892  1698    4.0  Dry  \n",
       "3       daylight   2  84   57228  89   1945   544  127.0  Dry  \n",
       "4       daylight   1  89   57231  88  13787  1893   42.0  Dry  \n",
       "...          ...  ..  ..     ...  ..    ...   ...    ...  ...  \n",
       "162561     night   1  88  794432  87  14577  1063    3.0  Dry  \n",
       "162562     night   2  68  794429  83  10728  1896  124.0  Dry  \n",
       "162563     night   1  73  794433  88   2046   572   39.0  Dry  \n",
       "162564     night   2  69  794434  68   3244   710    1.0  Dry  \n",
       "162565     night   1  86  794435  73   1167   535  107.0  Dry  \n",
       "\n",
       "[162566 rows x 17 columns]"
      ]
     },
     "execution_count": 8,
     "metadata": {},
     "output_type": "execute_result"
    }
   ],
   "source": [
    "# df_weather, df_vehicle row 개수 동일\n",
    "# [ID, V1(date)]기준 outer join 수행\n",
    "df_merge = df_weather.merge(df_vehicle, how=\"outer\", on=['ID', 'V1'])\n",
    "df_merge\n",
    "# 162566개"
   ]
  },
  {
   "cell_type": "code",
   "execution_count": 9,
   "metadata": {},
   "outputs": [
    {
     "data": {
      "text/html": [
       "<div>\n",
       "<style scoped>\n",
       "    .dataframe tbody tr th:only-of-type {\n",
       "        vertical-align: middle;\n",
       "    }\n",
       "\n",
       "    .dataframe tbody tr th {\n",
       "        vertical-align: top;\n",
       "    }\n",
       "\n",
       "    .dataframe thead th {\n",
       "        text-align: right;\n",
       "    }\n",
       "</style>\n",
       "<table border=\"1\" class=\"dataframe\">\n",
       "  <thead>\n",
       "    <tr style=\"text-align: right;\">\n",
       "      <th></th>\n",
       "      <th>ID</th>\n",
       "      <th>V1</th>\n",
       "      <th>V2</th>\n",
       "      <th>V3</th>\n",
       "      <th>V4</th>\n",
       "      <th>V5</th>\n",
       "      <th>V6</th>\n",
       "      <th>V7</th>\n",
       "      <th>V8</th>\n",
       "      <th>V9</th>\n",
       "      <th>...</th>\n",
       "      <th>V11</th>\n",
       "      <th>V12</th>\n",
       "      <th>V13</th>\n",
       "      <th>V14</th>\n",
       "      <th>V15</th>\n",
       "      <th>V16</th>\n",
       "      <th>V17</th>\n",
       "      <th>V18</th>\n",
       "      <th>V19</th>\n",
       "      <th>DrivingStyle</th>\n",
       "    </tr>\n",
       "  </thead>\n",
       "  <tbody>\n",
       "    <tr>\n",
       "      <th>0</th>\n",
       "      <td>DR_24526</td>\n",
       "      <td>2012-03-21 09:14:55</td>\n",
       "      <td>1265</td>\n",
       "      <td>1</td>\n",
       "      <td>81</td>\n",
       "      <td>10243</td>\n",
       "      <td>2</td>\n",
       "      <td>57227</td>\n",
       "      <td>87</td>\n",
       "      <td>16986</td>\n",
       "      <td>...</td>\n",
       "      <td>94.0</td>\n",
       "      <td>7.0</td>\n",
       "      <td>clear</td>\n",
       "      <td>None</td>\n",
       "      <td>95.0</td>\n",
       "      <td>146.0</td>\n",
       "      <td>1.0</td>\n",
       "      <td>Dry</td>\n",
       "      <td>daylight</td>\n",
       "      <td>2</td>\n",
       "    </tr>\n",
       "    <tr>\n",
       "      <th>1</th>\n",
       "      <td>DR_24526</td>\n",
       "      <td>2012-03-21 09:15:07</td>\n",
       "      <td>1265</td>\n",
       "      <td>1</td>\n",
       "      <td>88</td>\n",
       "      <td>10243</td>\n",
       "      <td>2</td>\n",
       "      <td>57229</td>\n",
       "      <td>81</td>\n",
       "      <td>1708</td>\n",
       "      <td>...</td>\n",
       "      <td>11.0</td>\n",
       "      <td>7.0</td>\n",
       "      <td>clear</td>\n",
       "      <td>None</td>\n",
       "      <td>95.0</td>\n",
       "      <td>124.0</td>\n",
       "      <td>0.0</td>\n",
       "      <td>Dry</td>\n",
       "      <td>daylight</td>\n",
       "      <td>2</td>\n",
       "    </tr>\n",
       "    <tr>\n",
       "      <th>2</th>\n",
       "      <td>DR_24526</td>\n",
       "      <td>2012-03-21 09:15:12</td>\n",
       "      <td>1265</td>\n",
       "      <td>1</td>\n",
       "      <td>88</td>\n",
       "      <td>10243</td>\n",
       "      <td>2</td>\n",
       "      <td>57230</td>\n",
       "      <td>88</td>\n",
       "      <td>22892</td>\n",
       "      <td>...</td>\n",
       "      <td>4.0</td>\n",
       "      <td>7.0</td>\n",
       "      <td>clear</td>\n",
       "      <td>None</td>\n",
       "      <td>95.0</td>\n",
       "      <td>124.0</td>\n",
       "      <td>0.0</td>\n",
       "      <td>Dry</td>\n",
       "      <td>daylight</td>\n",
       "      <td>2</td>\n",
       "    </tr>\n",
       "    <tr>\n",
       "      <th>3</th>\n",
       "      <td>DR_24526</td>\n",
       "      <td>2012-03-21 09:15:48</td>\n",
       "      <td>1265</td>\n",
       "      <td>2</td>\n",
       "      <td>84</td>\n",
       "      <td>10243</td>\n",
       "      <td>2</td>\n",
       "      <td>57228</td>\n",
       "      <td>89</td>\n",
       "      <td>1945</td>\n",
       "      <td>...</td>\n",
       "      <td>127.0</td>\n",
       "      <td>7.0</td>\n",
       "      <td>clear</td>\n",
       "      <td>None</td>\n",
       "      <td>95.0</td>\n",
       "      <td>124.0</td>\n",
       "      <td>0.0</td>\n",
       "      <td>Dry</td>\n",
       "      <td>daylight</td>\n",
       "      <td>2</td>\n",
       "    </tr>\n",
       "    <tr>\n",
       "      <th>4</th>\n",
       "      <td>DR_24526</td>\n",
       "      <td>2012-03-21 09:15:54</td>\n",
       "      <td>1265</td>\n",
       "      <td>1</td>\n",
       "      <td>89</td>\n",
       "      <td>10243</td>\n",
       "      <td>2</td>\n",
       "      <td>57231</td>\n",
       "      <td>88</td>\n",
       "      <td>13787</td>\n",
       "      <td>...</td>\n",
       "      <td>42.0</td>\n",
       "      <td>7.0</td>\n",
       "      <td>clear</td>\n",
       "      <td>None</td>\n",
       "      <td>95.0</td>\n",
       "      <td>124.0</td>\n",
       "      <td>0.0</td>\n",
       "      <td>Dry</td>\n",
       "      <td>daylight</td>\n",
       "      <td>2</td>\n",
       "    </tr>\n",
       "    <tr>\n",
       "      <th>...</th>\n",
       "      <td>...</td>\n",
       "      <td>...</td>\n",
       "      <td>...</td>\n",
       "      <td>...</td>\n",
       "      <td>...</td>\n",
       "      <td>...</td>\n",
       "      <td>...</td>\n",
       "      <td>...</td>\n",
       "      <td>...</td>\n",
       "      <td>...</td>\n",
       "      <td>...</td>\n",
       "      <td>...</td>\n",
       "      <td>...</td>\n",
       "      <td>...</td>\n",
       "      <td>...</td>\n",
       "      <td>...</td>\n",
       "      <td>...</td>\n",
       "      <td>...</td>\n",
       "      <td>...</td>\n",
       "      <td>...</td>\n",
       "      <td>...</td>\n",
       "    </tr>\n",
       "    <tr>\n",
       "      <th>162561</th>\n",
       "      <td>DR_69505</td>\n",
       "      <td>2013-04-30 16:54:41</td>\n",
       "      <td>710</td>\n",
       "      <td>1</td>\n",
       "      <td>88</td>\n",
       "      <td>3244</td>\n",
       "      <td>2</td>\n",
       "      <td>794432</td>\n",
       "      <td>87</td>\n",
       "      <td>14577</td>\n",
       "      <td>...</td>\n",
       "      <td>3.0</td>\n",
       "      <td>5.0</td>\n",
       "      <td>rain</td>\n",
       "      <td>Low</td>\n",
       "      <td>89.0</td>\n",
       "      <td>349.0</td>\n",
       "      <td>3.0</td>\n",
       "      <td>Dry</td>\n",
       "      <td>night</td>\n",
       "      <td>2</td>\n",
       "    </tr>\n",
       "    <tr>\n",
       "      <th>162562</th>\n",
       "      <td>DR_69505</td>\n",
       "      <td>2013-04-30 16:55:20</td>\n",
       "      <td>710</td>\n",
       "      <td>2</td>\n",
       "      <td>68</td>\n",
       "      <td>3244</td>\n",
       "      <td>2</td>\n",
       "      <td>794429</td>\n",
       "      <td>83</td>\n",
       "      <td>10728</td>\n",
       "      <td>...</td>\n",
       "      <td>124.0</td>\n",
       "      <td>9.0</td>\n",
       "      <td>rain</td>\n",
       "      <td>Low</td>\n",
       "      <td>91.0</td>\n",
       "      <td>45.0</td>\n",
       "      <td>8.0</td>\n",
       "      <td>Dry</td>\n",
       "      <td>night</td>\n",
       "      <td>2</td>\n",
       "    </tr>\n",
       "    <tr>\n",
       "      <th>162563</th>\n",
       "      <td>DR_69505</td>\n",
       "      <td>2013-04-30 16:55:21</td>\n",
       "      <td>710</td>\n",
       "      <td>1</td>\n",
       "      <td>73</td>\n",
       "      <td>3244</td>\n",
       "      <td>2</td>\n",
       "      <td>794433</td>\n",
       "      <td>88</td>\n",
       "      <td>2046</td>\n",
       "      <td>...</td>\n",
       "      <td>39.0</td>\n",
       "      <td>9.0</td>\n",
       "      <td>rain</td>\n",
       "      <td>Low</td>\n",
       "      <td>91.0</td>\n",
       "      <td>45.0</td>\n",
       "      <td>8.0</td>\n",
       "      <td>Dry</td>\n",
       "      <td>night</td>\n",
       "      <td>2</td>\n",
       "    </tr>\n",
       "    <tr>\n",
       "      <th>162564</th>\n",
       "      <td>DR_56117</td>\n",
       "      <td>2013-04-30 16:55:23</td>\n",
       "      <td>2001</td>\n",
       "      <td>2</td>\n",
       "      <td>69</td>\n",
       "      <td>27812</td>\n",
       "      <td>6</td>\n",
       "      <td>794434</td>\n",
       "      <td>68</td>\n",
       "      <td>3244</td>\n",
       "      <td>...</td>\n",
       "      <td>1.0</td>\n",
       "      <td>9.0</td>\n",
       "      <td>snow</td>\n",
       "      <td>Moderate</td>\n",
       "      <td>91.0</td>\n",
       "      <td>45.0</td>\n",
       "      <td>8.0</td>\n",
       "      <td>Dry</td>\n",
       "      <td>night</td>\n",
       "      <td>1</td>\n",
       "    </tr>\n",
       "    <tr>\n",
       "      <th>162565</th>\n",
       "      <td>DR_56117</td>\n",
       "      <td>2013-04-30 16:57:08</td>\n",
       "      <td>2001</td>\n",
       "      <td>1</td>\n",
       "      <td>86</td>\n",
       "      <td>27812</td>\n",
       "      <td>6</td>\n",
       "      <td>794435</td>\n",
       "      <td>73</td>\n",
       "      <td>1167</td>\n",
       "      <td>...</td>\n",
       "      <td>107.0</td>\n",
       "      <td>9.0</td>\n",
       "      <td>snow</td>\n",
       "      <td>Moderate</td>\n",
       "      <td>91.0</td>\n",
       "      <td>45.0</td>\n",
       "      <td>8.0</td>\n",
       "      <td>Dry</td>\n",
       "      <td>night</td>\n",
       "      <td>1</td>\n",
       "    </tr>\n",
       "  </tbody>\n",
       "</table>\n",
       "<p>162566 rows × 21 columns</p>\n",
       "</div>"
      ],
      "text/plain": [
       "              ID                   V1    V2  V3  V4     V5  V6      V7  V8  \\\n",
       "0       DR_24526  2012-03-21 09:14:55  1265   1  81  10243   2   57227  87   \n",
       "1       DR_24526  2012-03-21 09:15:07  1265   1  88  10243   2   57229  81   \n",
       "2       DR_24526  2012-03-21 09:15:12  1265   1  88  10243   2   57230  88   \n",
       "3       DR_24526  2012-03-21 09:15:48  1265   2  84  10243   2   57228  89   \n",
       "4       DR_24526  2012-03-21 09:15:54  1265   1  89  10243   2   57231  88   \n",
       "...          ...                  ...   ...  ..  ..    ...  ..     ...  ..   \n",
       "162561  DR_69505  2013-04-30 16:54:41   710   1  88   3244   2  794432  87   \n",
       "162562  DR_69505  2013-04-30 16:55:20   710   2  68   3244   2  794429  83   \n",
       "162563  DR_69505  2013-04-30 16:55:21   710   1  73   3244   2  794433  88   \n",
       "162564  DR_56117  2013-04-30 16:55:23  2001   2  69  27812   6  794434  68   \n",
       "162565  DR_56117  2013-04-30 16:57:08  2001   1  86  27812   6  794435  73   \n",
       "\n",
       "           V9  ...    V11  V12    V13       V14   V15    V16  V17  V18  \\\n",
       "0       16986  ...   94.0  7.0  clear      None  95.0  146.0  1.0  Dry   \n",
       "1        1708  ...   11.0  7.0  clear      None  95.0  124.0  0.0  Dry   \n",
       "2       22892  ...    4.0  7.0  clear      None  95.0  124.0  0.0  Dry   \n",
       "3        1945  ...  127.0  7.0  clear      None  95.0  124.0  0.0  Dry   \n",
       "4       13787  ...   42.0  7.0  clear      None  95.0  124.0  0.0  Dry   \n",
       "...       ...  ...    ...  ...    ...       ...   ...    ...  ...  ...   \n",
       "162561  14577  ...    3.0  5.0   rain       Low  89.0  349.0  3.0  Dry   \n",
       "162562  10728  ...  124.0  9.0   rain       Low  91.0   45.0  8.0  Dry   \n",
       "162563   2046  ...   39.0  9.0   rain       Low  91.0   45.0  8.0  Dry   \n",
       "162564   3244  ...    1.0  9.0   snow  Moderate  91.0   45.0  8.0  Dry   \n",
       "162565   1167  ...  107.0  9.0   snow  Moderate  91.0   45.0  8.0  Dry   \n",
       "\n",
       "             V19 DrivingStyle  \n",
       "0       daylight            2  \n",
       "1       daylight            2  \n",
       "2       daylight            2  \n",
       "3       daylight            2  \n",
       "4       daylight            2  \n",
       "...          ...          ...  \n",
       "162561     night            2  \n",
       "162562     night            2  \n",
       "162563     night            2  \n",
       "162564     night            1  \n",
       "162565     night            1  \n",
       "\n",
       "[162566 rows x 21 columns]"
      ]
     },
     "execution_count": 9,
     "metadata": {},
     "output_type": "execute_result"
    }
   ],
   "source": [
    "# [ID]기준 df, df_merge join 수행\n",
    "data = pd.merge(df, df_merge, on=['ID'])\n",
    "data = data[['ID','V1','V2','V3','V4','V5','V6','V7','V8','V9','V10','V11','V12','V13','V14','V15','V16','V17','V18','V19','DrivingStyle']]\n",
    "data"
   ]
  },
  {
   "cell_type": "code",
   "execution_count": 10,
   "metadata": {},
   "outputs": [],
   "source": [
    "df = pd.DataFrame()"
   ]
  },
  {
   "cell_type": "code",
   "execution_count": 11,
   "metadata": {},
   "outputs": [],
   "source": [
    "# ID, V1-V11\n",
    "df['id'] = data['ID']\n",
    "df['time'] = pd.to_datetime(data['V1'])\n",
    "df['veh_len'] = data['V2']\n",
    "df['road_lane'] = data['V3']\n",
    "df['veh_spd'] = data['V4']\n",
    "df['veh_weight'] = data['V5']\n",
    "df['num_axles'] = data['V6']\n",
    "df['id_preced'] = data['V7']\n",
    "df['veh_spd_preced'] = data['V8']\n",
    "df['veh_weight_preced'] = data['V9']\n",
    "df['veh_len_preced'] = data['V10']\n",
    "df['time_gap'] = data['V11']\n",
    "\n",
    "# V12-19, driving style\n",
    "df['temperature'] = data['V12']\n",
    "df['precipitation_type'] = data['V13']\n",
    "df['precipitation_intensity'] = data['V14']\n",
    "df['precipitation_humidity'] = data['V15']\n",
    "df['wind_dir'] = data['V16']\n",
    "df['wind_spd'] = data['V17']\n",
    "df['road_con'] = data['V18']\n",
    "df['light_con'] = data['V19']\n",
    "df['driving_style'] = data['DrivingStyle']"
   ]
  },
  {
   "cell_type": "code",
   "execution_count": null,
   "metadata": {},
   "outputs": [],
   "source": []
  },
  {
   "cell_type": "markdown",
   "metadata": {},
   "source": [
    "## Find and Remove Null/NA"
   ]
  },
  {
   "cell_type": "code",
   "execution_count": 12,
   "metadata": {},
   "outputs": [
    {
     "data": {
      "text/plain": [
       "ID                 0\n",
       "V1                 0\n",
       "V2                 0\n",
       "V3                 0\n",
       "V4                 0\n",
       "V5                 0\n",
       "V6                 0\n",
       "V7                 0\n",
       "V8                 0\n",
       "V9                 0\n",
       "V10                0\n",
       "V11             2455\n",
       "V12             2057\n",
       "V13                0\n",
       "V14                0\n",
       "V15             2105\n",
       "V16             2114\n",
       "V17             2464\n",
       "V18                0\n",
       "V19                0\n",
       "DrivingStyle       0\n",
       "dtype: int64"
      ]
     },
     "execution_count": 12,
     "metadata": {},
     "output_type": "execute_result"
    }
   ],
   "source": [
    "data.isnull().sum()"
   ]
  },
  {
   "cell_type": "code",
   "execution_count": null,
   "metadata": {},
   "outputs": [],
   "source": []
  },
  {
   "cell_type": "code",
   "execution_count": 13,
   "metadata": {},
   "outputs": [
    {
     "data": {
      "text/plain": [
       "<AxesSubplot:>"
      ]
     },
     "execution_count": 13,
     "metadata": {},
     "output_type": "execute_result"
    },
    {
     "data": {
      "image/png": "[encoded data removed]",
      "text/plain": [
       "<Figure size 432x288 with 1 Axes>"
      ]
     },
     "metadata": {
      "needs_background": "light"
     },
     "output_type": "display_data"
    }
   ],
   "source": [
    "%matplotlib inline\n",
    "sns.heatmap(df.isnull(), cbar=False)"
   ]
  },
  {
   "cell_type": "code",
   "execution_count": 14,
   "metadata": {},
   "outputs": [],
   "source": [
    "df=df.fillna(method='pad')"
   ]
  },
  {
   "cell_type": "code",
   "execution_count": 15,
   "metadata": {},
   "outputs": [],
   "source": [
    "df=df.fillna(method='bfill')"
   ]
  },
  {
   "cell_type": "code",
   "execution_count": 16,
   "metadata": {},
   "outputs": [
    {
     "data": {
      "text/plain": [
       "0"
      ]
     },
     "execution_count": 16,
     "metadata": {},
     "output_type": "execute_result"
    }
   ],
   "source": [
    "df['wind_spd'].isnull().sum()"
   ]
  },
  {
   "cell_type": "code",
   "execution_count": 17,
   "metadata": {},
   "outputs": [
    {
     "data": {
      "text/plain": [
       "<AxesSubplot:>"
      ]
     },
     "execution_count": 17,
     "metadata": {},
     "output_type": "execute_result"
    },
    {
     "data": {
      "image/png": "[encoded data removed]",
      "text/plain": [
       "<Figure size 432x288 with 1 Axes>"
      ]
     },
     "metadata": {
      "needs_background": "light"
     },
     "output_type": "display_data"
    }
   ],
   "source": [
    "%matplotlib inline\n",
    "sns.heatmap(df.isnull(), cbar=False)"
   ]
  },
  {
   "cell_type": "code",
   "execution_count": null,
   "metadata": {},
   "outputs": [],
   "source": []
  },
  {
   "cell_type": "code",
   "execution_count": 18,
   "metadata": {},
   "outputs": [
    {
     "name": "stdout",
     "output_type": "stream",
     "text": [
      "<class 'pandas.core.frame.DataFrame'>\n",
      "Int64Index: 162566 entries, 0 to 162565\n",
      "Data columns (total 21 columns):\n",
      " #   Column                   Non-Null Count   Dtype         \n",
      "---  ------                   --------------   -----         \n",
      " 0   id                       162566 non-null  object        \n",
      " 1   time                     162566 non-null  datetime64[ns]\n",
      " 2   veh_len                  162566 non-null  int64         \n",
      " 3   road_lane                162566 non-null  int64         \n",
      " 4   veh_spd                  162566 non-null  int64         \n",
      " 5   veh_weight               162566 non-null  int64         \n",
      " 6   num_axles                162566 non-null  int64         \n",
      " 7   id_preced                162566 non-null  int64         \n",
      " 8   veh_spd_preced           162566 non-null  int64         \n",
      " 9   veh_weight_preced        162566 non-null  int64         \n",
      " 10  veh_len_preced           162566 non-null  int64         \n",
      " 11  time_gap                 162566 non-null  float64       \n",
      " 12  temperature              162566 non-null  float64       \n",
      " 13  precipitation_type       162566 non-null  object        \n",
      " 14  precipitation_intensity  162566 non-null  object        \n",
      " 15  precipitation_humidity   162566 non-null  float64       \n",
      " 16  wind_dir                 162566 non-null  float64       \n",
      " 17  wind_spd                 162566 non-null  float64       \n",
      " 18  road_con                 162566 non-null  object        \n",
      " 19  light_con                162566 non-null  object        \n",
      " 20  driving_style            162566 non-null  int64         \n",
      "dtypes: datetime64[ns](1), float64(5), int64(10), object(5)\n",
      "memory usage: 27.3+ MB\n"
     ]
    }
   ],
   "source": [
    "df.info()"
   ]
  },
  {
   "cell_type": "code",
   "execution_count": null,
   "metadata": {},
   "outputs": [],
   "source": []
  },
  {
   "cell_type": "markdown",
   "metadata": {},
   "source": [
    "## Data Analysis"
   ]
  },
  {
   "cell_type": "code",
   "execution_count": 19,
   "metadata": {},
   "outputs": [
    {
     "name": "stdout",
     "output_type": "stream",
     "text": [
      "id 12994\n",
      "precipitation_type 3\n",
      "precipitation_intensity 5\n",
      "road_con 4\n",
      "light_con 3\n"
     ]
    }
   ],
   "source": [
    "#categorical feature: 카테고리 종류 확인\n",
    "#numeric feature: 데이터의 분포 확인\n",
    "\n",
    "# Frequency tables for each categorical feature\n",
    "for column in df.select_dtypes(include=['object']).columns:\n",
    "    print(column, len(df[column].unique()))\n",
    "\n",
    "# <result> id는 너무 많은 카테고리 존재 -> 사용 x  \n",
    "# id 12994\n",
    "# precipitation_type 3\n",
    "# precipitation_intensity 5\n",
    "# road_con 4\n",
    "# light_con 3"
   ]
  },
  {
   "cell_type": "markdown",
   "metadata": {},
   "source": [
    "### categorical feature"
   ]
  },
  {
   "cell_type": "code",
   "execution_count": 20,
   "metadata": {},
   "outputs": [
    {
     "data": {
      "text/html": [
       "<div>\n",
       "<style scoped>\n",
       "    .dataframe tbody tr th:only-of-type {\n",
       "        vertical-align: middle;\n",
       "    }\n",
       "\n",
       "    .dataframe tbody tr th {\n",
       "        vertical-align: top;\n",
       "    }\n",
       "\n",
       "    .dataframe thead th {\n",
       "        text-align: right;\n",
       "    }\n",
       "</style>\n",
       "<table border=\"1\" class=\"dataframe\">\n",
       "  <thead>\n",
       "    <tr style=\"text-align: right;\">\n",
       "      <th>col_0</th>\n",
       "      <th>% observations</th>\n",
       "    </tr>\n",
       "    <tr>\n",
       "      <th>precipitation_type</th>\n",
       "      <th></th>\n",
       "    </tr>\n",
       "  </thead>\n",
       "  <tbody>\n",
       "    <tr>\n",
       "      <th>clear</th>\n",
       "      <td>0.930447</td>\n",
       "    </tr>\n",
       "    <tr>\n",
       "      <th>rain</th>\n",
       "      <td>0.032990</td>\n",
       "    </tr>\n",
       "    <tr>\n",
       "      <th>snow</th>\n",
       "      <td>0.036564</td>\n",
       "    </tr>\n",
       "  </tbody>\n",
       "</table>\n",
       "</div>"
      ],
      "text/plain": [
       "col_0               % observations\n",
       "precipitation_type                \n",
       "clear                     0.930447\n",
       "rain                      0.032990\n",
       "snow                      0.036564"
      ]
     },
     "metadata": {},
     "output_type": "display_data"
    }
   ],
   "source": [
    "column = 'precipitation_type'\n",
    "display(pd.crosstab(index=df[column], columns='% observations', normalize='columns'))\n",
    "\n",
    "# 주로 clear 0.930447"
   ]
  },
  {
   "cell_type": "code",
   "execution_count": 21,
   "metadata": {},
   "outputs": [
    {
     "data": {
      "text/html": [
       "<div>\n",
       "<style scoped>\n",
       "    .dataframe tbody tr th:only-of-type {\n",
       "        vertical-align: middle;\n",
       "    }\n",
       "\n",
       "    .dataframe tbody tr th {\n",
       "        vertical-align: top;\n",
       "    }\n",
       "\n",
       "    .dataframe thead th {\n",
       "        text-align: right;\n",
       "    }\n",
       "</style>\n",
       "<table border=\"1\" class=\"dataframe\">\n",
       "  <thead>\n",
       "    <tr style=\"text-align: right;\">\n",
       "      <th>col_0</th>\n",
       "      <th>% observations</th>\n",
       "    </tr>\n",
       "    <tr>\n",
       "      <th>precipitation_intensity</th>\n",
       "      <th></th>\n",
       "    </tr>\n",
       "  </thead>\n",
       "  <tbody>\n",
       "    <tr>\n",
       "      <th></th>\n",
       "      <td>0.013988</td>\n",
       "    </tr>\n",
       "    <tr>\n",
       "      <th>High</th>\n",
       "      <td>0.000609</td>\n",
       "    </tr>\n",
       "    <tr>\n",
       "      <th>Low</th>\n",
       "      <td>0.050127</td>\n",
       "    </tr>\n",
       "    <tr>\n",
       "      <th>Moderate</th>\n",
       "      <td>0.002885</td>\n",
       "    </tr>\n",
       "    <tr>\n",
       "      <th>None</th>\n",
       "      <td>0.932391</td>\n",
       "    </tr>\n",
       "  </tbody>\n",
       "</table>\n",
       "</div>"
      ],
      "text/plain": [
       "col_0                    % observations\n",
       "precipitation_intensity                \n",
       "                               0.013988\n",
       "High                           0.000609\n",
       "Low                            0.050127\n",
       "Moderate                       0.002885\n",
       "None                           0.932391"
      ]
     },
     "metadata": {},
     "output_type": "display_data"
    }
   ],
   "source": [
    "column = 'precipitation_intensity'\n",
    "display(pd.crosstab(index=df[column], columns='% observations', normalize='columns'))\n",
    "\n",
    "# 주로 None 0.932391"
   ]
  },
  {
   "cell_type": "code",
   "execution_count": 22,
   "metadata": {},
   "outputs": [
    {
     "data": {
      "text/html": [
       "<div>\n",
       "<style scoped>\n",
       "    .dataframe tbody tr th:only-of-type {\n",
       "        vertical-align: middle;\n",
       "    }\n",
       "\n",
       "    .dataframe tbody tr th {\n",
       "        vertical-align: top;\n",
       "    }\n",
       "\n",
       "    .dataframe thead th {\n",
       "        text-align: right;\n",
       "    }\n",
       "</style>\n",
       "<table border=\"1\" class=\"dataframe\">\n",
       "  <thead>\n",
       "    <tr style=\"text-align: right;\">\n",
       "      <th>col_0</th>\n",
       "      <th>% observations</th>\n",
       "    </tr>\n",
       "    <tr>\n",
       "      <th>road_con</th>\n",
       "      <th></th>\n",
       "    </tr>\n",
       "  </thead>\n",
       "  <tbody>\n",
       "    <tr>\n",
       "      <th>Dry</th>\n",
       "      <td>0.723804</td>\n",
       "    </tr>\n",
       "    <tr>\n",
       "      <th>Snow covered</th>\n",
       "      <td>0.010685</td>\n",
       "    </tr>\n",
       "    <tr>\n",
       "      <th>Visible tracks</th>\n",
       "      <td>0.034048</td>\n",
       "    </tr>\n",
       "    <tr>\n",
       "      <th>Wet</th>\n",
       "      <td>0.231463</td>\n",
       "    </tr>\n",
       "  </tbody>\n",
       "</table>\n",
       "</div>"
      ],
      "text/plain": [
       "col_0           % observations\n",
       "road_con                      \n",
       "Dry                   0.723804\n",
       "Snow covered          0.010685\n",
       "Visible tracks        0.034048\n",
       "Wet                   0.231463"
      ]
     },
     "metadata": {},
     "output_type": "display_data"
    }
   ],
   "source": [
    "column = 'road_con'\n",
    "display(pd.crosstab(index=df[column], columns='% observations', normalize='columns'))\n",
    "\n",
    "# 주로 Dry 0.723804"
   ]
  },
  {
   "cell_type": "code",
   "execution_count": 23,
   "metadata": {},
   "outputs": [
    {
     "data": {
      "text/html": [
       "<div>\n",
       "<style scoped>\n",
       "    .dataframe tbody tr th:only-of-type {\n",
       "        vertical-align: middle;\n",
       "    }\n",
       "\n",
       "    .dataframe tbody tr th {\n",
       "        vertical-align: top;\n",
       "    }\n",
       "\n",
       "    .dataframe thead th {\n",
       "        text-align: right;\n",
       "    }\n",
       "</style>\n",
       "<table border=\"1\" class=\"dataframe\">\n",
       "  <thead>\n",
       "    <tr style=\"text-align: right;\">\n",
       "      <th>col_0</th>\n",
       "      <th>% observations</th>\n",
       "    </tr>\n",
       "    <tr>\n",
       "      <th>light_con</th>\n",
       "      <th></th>\n",
       "    </tr>\n",
       "  </thead>\n",
       "  <tbody>\n",
       "    <tr>\n",
       "      <th>daylight</th>\n",
       "      <td>0.295431</td>\n",
       "    </tr>\n",
       "    <tr>\n",
       "      <th>night</th>\n",
       "      <td>0.590068</td>\n",
       "    </tr>\n",
       "    <tr>\n",
       "      <th>twilight</th>\n",
       "      <td>0.114501</td>\n",
       "    </tr>\n",
       "  </tbody>\n",
       "</table>\n",
       "</div>"
      ],
      "text/plain": [
       "col_0      % observations\n",
       "light_con                \n",
       "daylight         0.295431\n",
       "night            0.590068\n",
       "twilight         0.114501"
      ]
     },
     "metadata": {},
     "output_type": "display_data"
    }
   ],
   "source": [
    "column = 'light_con'\n",
    "display(pd.crosstab(index=df[column], columns='% observations', normalize='columns'))\n",
    "\n",
    "# 주로 night 0.590068"
   ]
  },
  {
   "cell_type": "code",
   "execution_count": 24,
   "metadata": {},
   "outputs": [
    {
     "data": {
      "text/html": [
       "<div>\n",
       "<style scoped>\n",
       "    .dataframe tbody tr th:only-of-type {\n",
       "        vertical-align: middle;\n",
       "    }\n",
       "\n",
       "    .dataframe tbody tr th {\n",
       "        vertical-align: top;\n",
       "    }\n",
       "\n",
       "    .dataframe thead th {\n",
       "        text-align: right;\n",
       "    }\n",
       "</style>\n",
       "<table border=\"1\" class=\"dataframe\">\n",
       "  <thead>\n",
       "    <tr style=\"text-align: right;\">\n",
       "      <th>driving_style</th>\n",
       "      <th>1</th>\n",
       "      <th>2</th>\n",
       "      <th>3</th>\n",
       "    </tr>\n",
       "    <tr>\n",
       "      <th>precipitation_type</th>\n",
       "      <th></th>\n",
       "      <th></th>\n",
       "      <th></th>\n",
       "    </tr>\n",
       "  </thead>\n",
       "  <tbody>\n",
       "    <tr>\n",
       "      <th>clear</th>\n",
       "      <td>0.893726</td>\n",
       "      <td>0.930988</td>\n",
       "      <td>0.948654</td>\n",
       "    </tr>\n",
       "    <tr>\n",
       "      <th>rain</th>\n",
       "      <td>0.060175</td>\n",
       "      <td>0.026874</td>\n",
       "      <td>0.029392</td>\n",
       "    </tr>\n",
       "    <tr>\n",
       "      <th>snow</th>\n",
       "      <td>0.046100</td>\n",
       "      <td>0.042138</td>\n",
       "      <td>0.021954</td>\n",
       "    </tr>\n",
       "  </tbody>\n",
       "</table>\n",
       "</div>"
      ],
      "text/plain": [
       "driving_style              1         2         3\n",
       "precipitation_type                              \n",
       "clear               0.893726  0.930988  0.948654\n",
       "rain                0.060175  0.026874  0.029392\n",
       "snow                0.046100  0.042138  0.021954"
      ]
     },
     "metadata": {},
     "output_type": "display_data"
    }
   ],
   "source": [
    "# correlation with Y\n",
    "y_column = 'driving_style'\n",
    "x_column = 'precipitation_type'\n",
    "display(pd.crosstab(index=df[x_column], columns=df[y_column], normalize='columns'))\n",
    "\n",
    "# clear -> 1,2,3\n",
    "# rain -> 1"
   ]
  },
  {
   "cell_type": "code",
   "execution_count": 25,
   "metadata": {},
   "outputs": [
    {
     "data": {
      "text/html": [
       "<div>\n",
       "<style scoped>\n",
       "    .dataframe tbody tr th:only-of-type {\n",
       "        vertical-align: middle;\n",
       "    }\n",
       "\n",
       "    .dataframe tbody tr th {\n",
       "        vertical-align: top;\n",
       "    }\n",
       "\n",
       "    .dataframe thead th {\n",
       "        text-align: right;\n",
       "    }\n",
       "</style>\n",
       "<table border=\"1\" class=\"dataframe\">\n",
       "  <thead>\n",
       "    <tr style=\"text-align: right;\">\n",
       "      <th>driving_style</th>\n",
       "      <th>1</th>\n",
       "      <th>2</th>\n",
       "      <th>3</th>\n",
       "    </tr>\n",
       "    <tr>\n",
       "      <th>precipitation_intensity</th>\n",
       "      <th></th>\n",
       "      <th></th>\n",
       "      <th></th>\n",
       "    </tr>\n",
       "  </thead>\n",
       "  <tbody>\n",
       "    <tr>\n",
       "      <th></th>\n",
       "      <td>0.013845</td>\n",
       "      <td>0.015044</td>\n",
       "      <td>0.012237</td>\n",
       "    </tr>\n",
       "    <tr>\n",
       "      <th>High</th>\n",
       "      <td>0.000844</td>\n",
       "      <td>0.000856</td>\n",
       "      <td>0.000060</td>\n",
       "    </tr>\n",
       "    <tr>\n",
       "      <th>Low</th>\n",
       "      <td>0.087789</td>\n",
       "      <td>0.046856</td>\n",
       "      <td>0.036150</td>\n",
       "    </tr>\n",
       "    <tr>\n",
       "      <th>Moderate</th>\n",
       "      <td>0.001342</td>\n",
       "      <td>0.004579</td>\n",
       "      <td>0.000760</td>\n",
       "    </tr>\n",
       "    <tr>\n",
       "      <th>None</th>\n",
       "      <td>0.896180</td>\n",
       "      <td>0.932665</td>\n",
       "      <td>0.950794</td>\n",
       "    </tr>\n",
       "  </tbody>\n",
       "</table>\n",
       "</div>"
      ],
      "text/plain": [
       "driving_style                   1         2         3\n",
       "precipitation_intensity                              \n",
       "                         0.013845  0.015044  0.012237\n",
       "High                     0.000844  0.000856  0.000060\n",
       "Low                      0.087789  0.046856  0.036150\n",
       "Moderate                 0.001342  0.004579  0.000760\n",
       "None                     0.896180  0.932665  0.950794"
      ]
     },
     "metadata": {},
     "output_type": "display_data"
    }
   ],
   "source": [
    "# correlation with Y\n",
    "y_column = 'driving_style'\n",
    "x_column = 'precipitation_intensity'\n",
    "display(pd.crosstab(index=df[x_column], columns=df[y_column], normalize='columns'))"
   ]
  },
  {
   "cell_type": "code",
   "execution_count": 26,
   "metadata": {},
   "outputs": [
    {
     "data": {
      "text/html": [
       "<div>\n",
       "<style scoped>\n",
       "    .dataframe tbody tr th:only-of-type {\n",
       "        vertical-align: middle;\n",
       "    }\n",
       "\n",
       "    .dataframe tbody tr th {\n",
       "        vertical-align: top;\n",
       "    }\n",
       "\n",
       "    .dataframe thead th {\n",
       "        text-align: right;\n",
       "    }\n",
       "</style>\n",
       "<table border=\"1\" class=\"dataframe\">\n",
       "  <thead>\n",
       "    <tr style=\"text-align: right;\">\n",
       "      <th>driving_style</th>\n",
       "      <th>1</th>\n",
       "      <th>2</th>\n",
       "      <th>3</th>\n",
       "    </tr>\n",
       "    <tr>\n",
       "      <th>road_con</th>\n",
       "      <th></th>\n",
       "      <th></th>\n",
       "      <th></th>\n",
       "    </tr>\n",
       "  </thead>\n",
       "  <tbody>\n",
       "    <tr>\n",
       "      <th>Dry</th>\n",
       "      <td>0.505638</td>\n",
       "      <td>0.735493</td>\n",
       "      <td>0.817331</td>\n",
       "    </tr>\n",
       "    <tr>\n",
       "      <th>Snow covered</th>\n",
       "      <td>0.022206</td>\n",
       "      <td>0.012177</td>\n",
       "      <td>0.002099</td>\n",
       "    </tr>\n",
       "    <tr>\n",
       "      <th>Visible tracks</th>\n",
       "      <td>0.028151</td>\n",
       "      <td>0.047527</td>\n",
       "      <td>0.013816</td>\n",
       "    </tr>\n",
       "    <tr>\n",
       "      <th>Wet</th>\n",
       "      <td>0.444006</td>\n",
       "      <td>0.204804</td>\n",
       "      <td>0.166753</td>\n",
       "    </tr>\n",
       "  </tbody>\n",
       "</table>\n",
       "</div>"
      ],
      "text/plain": [
       "driving_style          1         2         3\n",
       "road_con                                    \n",
       "Dry             0.505638  0.735493  0.817331\n",
       "Snow covered    0.022206  0.012177  0.002099\n",
       "Visible tracks  0.028151  0.047527  0.013816\n",
       "Wet             0.444006  0.204804  0.166753"
      ]
     },
     "metadata": {},
     "output_type": "display_data"
    }
   ],
   "source": [
    "# correlation with Y\n",
    "y_column = 'driving_style'\n",
    "x_column = 'road_con'\n",
    "display(pd.crosstab(index=df[x_column], columns=df[y_column], normalize='columns'))"
   ]
  },
  {
   "cell_type": "code",
   "execution_count": 27,
   "metadata": {},
   "outputs": [
    {
     "data": {
      "text/html": [
       "<div>\n",
       "<style scoped>\n",
       "    .dataframe tbody tr th:only-of-type {\n",
       "        vertical-align: middle;\n",
       "    }\n",
       "\n",
       "    .dataframe tbody tr th {\n",
       "        vertical-align: top;\n",
       "    }\n",
       "\n",
       "    .dataframe thead th {\n",
       "        text-align: right;\n",
       "    }\n",
       "</style>\n",
       "<table border=\"1\" class=\"dataframe\">\n",
       "  <thead>\n",
       "    <tr style=\"text-align: right;\">\n",
       "      <th>driving_style</th>\n",
       "      <th>1</th>\n",
       "      <th>2</th>\n",
       "      <th>3</th>\n",
       "    </tr>\n",
       "    <tr>\n",
       "      <th>light_con</th>\n",
       "      <th></th>\n",
       "      <th></th>\n",
       "      <th></th>\n",
       "    </tr>\n",
       "  </thead>\n",
       "  <tbody>\n",
       "    <tr>\n",
       "      <th>daylight</th>\n",
       "      <td>0.216883</td>\n",
       "      <td>0.486586</td>\n",
       "      <td>0.005858</td>\n",
       "    </tr>\n",
       "    <tr>\n",
       "      <th>night</th>\n",
       "      <td>0.692414</td>\n",
       "      <td>0.431358</td>\n",
       "      <td>0.811133</td>\n",
       "    </tr>\n",
       "    <tr>\n",
       "      <th>twilight</th>\n",
       "      <td>0.090703</td>\n",
       "      <td>0.082056</td>\n",
       "      <td>0.183009</td>\n",
       "    </tr>\n",
       "  </tbody>\n",
       "</table>\n",
       "</div>"
      ],
      "text/plain": [
       "driving_style         1         2         3\n",
       "light_con                                  \n",
       "daylight       0.216883  0.486586  0.005858\n",
       "night          0.692414  0.431358  0.811133\n",
       "twilight       0.090703  0.082056  0.183009"
      ]
     },
     "metadata": {},
     "output_type": "display_data"
    }
   ],
   "source": [
    "# correlation with Y\n",
    "y_column = 'driving_style'\n",
    "x_column = 'light_con'\n",
    "display(pd.crosstab(index=df[x_column], columns=df[y_column], normalize='columns'))\n",
    "\n",
    "# night -> 1, 3"
   ]
  },
  {
   "cell_type": "code",
   "execution_count": null,
   "metadata": {},
   "outputs": [],
   "source": []
  },
  {
   "cell_type": "markdown",
   "metadata": {},
   "source": [
    "### numeric feature"
   ]
  },
  {
   "cell_type": "code",
   "execution_count": 28,
   "metadata": {},
   "outputs": [
    {
     "data": {
      "text/html": [
       "<div>\n",
       "<style scoped>\n",
       "    .dataframe tbody tr th:only-of-type {\n",
       "        vertical-align: middle;\n",
       "    }\n",
       "\n",
       "    .dataframe tbody tr th {\n",
       "        vertical-align: top;\n",
       "    }\n",
       "\n",
       "    .dataframe thead th {\n",
       "        text-align: right;\n",
       "    }\n",
       "</style>\n",
       "<table border=\"1\" class=\"dataframe\">\n",
       "  <thead>\n",
       "    <tr style=\"text-align: right;\">\n",
       "      <th></th>\n",
       "      <th>veh_len</th>\n",
       "      <th>road_lane</th>\n",
       "      <th>veh_spd</th>\n",
       "      <th>veh_weight</th>\n",
       "      <th>num_axles</th>\n",
       "      <th>id_preced</th>\n",
       "      <th>veh_spd_preced</th>\n",
       "      <th>veh_weight_preced</th>\n",
       "      <th>veh_len_preced</th>\n",
       "      <th>time_gap</th>\n",
       "      <th>temperature</th>\n",
       "      <th>precipitation_humidity</th>\n",
       "      <th>wind_dir</th>\n",
       "      <th>wind_spd</th>\n",
       "      <th>driving_style</th>\n",
       "    </tr>\n",
       "  </thead>\n",
       "  <tbody>\n",
       "    <tr>\n",
       "      <th>count</th>\n",
       "      <td>162566.000000</td>\n",
       "      <td>162566.000000</td>\n",
       "      <td>162566.000000</td>\n",
       "      <td>162566.000000</td>\n",
       "      <td>162566.000000</td>\n",
       "      <td>162566.000000</td>\n",
       "      <td>162566.000000</td>\n",
       "      <td>162566.000000</td>\n",
       "      <td>162566.000000</td>\n",
       "      <td>162566.00000</td>\n",
       "      <td>162566.000000</td>\n",
       "      <td>162566.000000</td>\n",
       "      <td>162566.000000</td>\n",
       "      <td>162566.000000</td>\n",
       "      <td>162566.000000</td>\n",
       "    </tr>\n",
       "    <tr>\n",
       "      <th>mean</th>\n",
       "      <td>865.518349</td>\n",
       "      <td>1.500849</td>\n",
       "      <td>83.455483</td>\n",
       "      <td>6020.270481</td>\n",
       "      <td>2.846315</td>\n",
       "      <td>460124.263979</td>\n",
       "      <td>83.458817</td>\n",
       "      <td>5017.562793</td>\n",
       "      <td>790.775285</td>\n",
       "      <td>105.26038</td>\n",
       "      <td>4.651409</td>\n",
       "      <td>60.629744</td>\n",
       "      <td>182.210038</td>\n",
       "      <td>4.183612</td>\n",
       "      <td>2.147263</td>\n",
       "    </tr>\n",
       "    <tr>\n",
       "      <th>std</th>\n",
       "      <td>495.155881</td>\n",
       "      <td>0.500001</td>\n",
       "      <td>9.375122</td>\n",
       "      <td>7972.925231</td>\n",
       "      <td>1.466560</td>\n",
       "      <td>272271.224195</td>\n",
       "      <td>9.373120</td>\n",
       "      <td>7399.315434</td>\n",
       "      <td>481.944297</td>\n",
       "      <td>177.87340</td>\n",
       "      <td>3.219471</td>\n",
       "      <td>18.254615</td>\n",
       "      <td>88.981423</td>\n",
       "      <td>3.024879</td>\n",
       "      <td>0.668102</td>\n",
       "    </tr>\n",
       "    <tr>\n",
       "      <th>min</th>\n",
       "      <td>155.000000</td>\n",
       "      <td>1.000000</td>\n",
       "      <td>8.000000</td>\n",
       "      <td>44.000000</td>\n",
       "      <td>2.000000</td>\n",
       "      <td>20.000000</td>\n",
       "      <td>0.000000</td>\n",
       "      <td>3.000000</td>\n",
       "      <td>102.000000</td>\n",
       "      <td>1.00000</td>\n",
       "      <td>-13.000000</td>\n",
       "      <td>16.000000</td>\n",
       "      <td>6.000000</td>\n",
       "      <td>0.000000</td>\n",
       "      <td>1.000000</td>\n",
       "    </tr>\n",
       "    <tr>\n",
       "      <th>25%</th>\n",
       "      <td>550.000000</td>\n",
       "      <td>1.000000</td>\n",
       "      <td>78.000000</td>\n",
       "      <td>1625.000000</td>\n",
       "      <td>2.000000</td>\n",
       "      <td>142983.250000</td>\n",
       "      <td>78.000000</td>\n",
       "      <td>1502.000000</td>\n",
       "      <td>527.000000</td>\n",
       "      <td>6.00000</td>\n",
       "      <td>2.000000</td>\n",
       "      <td>46.000000</td>\n",
       "      <td>152.000000</td>\n",
       "      <td>1.000000</td>\n",
       "      <td>2.000000</td>\n",
       "    </tr>\n",
       "    <tr>\n",
       "      <th>50%</th>\n",
       "      <td>577.000000</td>\n",
       "      <td>2.000000</td>\n",
       "      <td>83.000000</td>\n",
       "      <td>2013.000000</td>\n",
       "      <td>2.000000</td>\n",
       "      <td>594321.500000</td>\n",
       "      <td>83.000000</td>\n",
       "      <td>1862.000000</td>\n",
       "      <td>560.000000</td>\n",
       "      <td>43.00000</td>\n",
       "      <td>5.000000</td>\n",
       "      <td>58.000000</td>\n",
       "      <td>180.000000</td>\n",
       "      <td>4.000000</td>\n",
       "      <td>2.000000</td>\n",
       "    </tr>\n",
       "    <tr>\n",
       "      <th>75%</th>\n",
       "      <td>1060.000000</td>\n",
       "      <td>2.000000</td>\n",
       "      <td>88.000000</td>\n",
       "      <td>6220.000000</td>\n",
       "      <td>3.000000</td>\n",
       "      <td>692362.750000</td>\n",
       "      <td>88.000000</td>\n",
       "      <td>2669.000000</td>\n",
       "      <td>701.000000</td>\n",
       "      <td>125.00000</td>\n",
       "      <td>7.000000</td>\n",
       "      <td>76.000000</td>\n",
       "      <td>208.000000</td>\n",
       "      <td>7.000000</td>\n",
       "      <td>3.000000</td>\n",
       "    </tr>\n",
       "    <tr>\n",
       "      <th>max</th>\n",
       "      <td>2337.000000</td>\n",
       "      <td>2.000000</td>\n",
       "      <td>161.000000</td>\n",
       "      <td>57230.000000</td>\n",
       "      <td>9.000000</td>\n",
       "      <td>794435.000000</td>\n",
       "      <td>161.000000</td>\n",
       "      <td>69548.000000</td>\n",
       "      <td>2981.000000</td>\n",
       "      <td>1797.00000</td>\n",
       "      <td>24.000000</td>\n",
       "      <td>97.000000</td>\n",
       "      <td>360.000000</td>\n",
       "      <td>17.000000</td>\n",
       "      <td>3.000000</td>\n",
       "    </tr>\n",
       "  </tbody>\n",
       "</table>\n",
       "</div>"
      ],
      "text/plain": [
       "             veh_len      road_lane        veh_spd     veh_weight  \\\n",
       "count  162566.000000  162566.000000  162566.000000  162566.000000   \n",
       "mean      865.518349       1.500849      83.455483    6020.270481   \n",
       "std       495.155881       0.500001       9.375122    7972.925231   \n",
       "min       155.000000       1.000000       8.000000      44.000000   \n",
       "25%       550.000000       1.000000      78.000000    1625.000000   \n",
       "50%       577.000000       2.000000      83.000000    2013.000000   \n",
       "75%      1060.000000       2.000000      88.000000    6220.000000   \n",
       "max      2337.000000       2.000000     161.000000   57230.000000   \n",
       "\n",
       "           num_axles      id_preced  veh_spd_preced  veh_weight_preced  \\\n",
       "count  162566.000000  162566.000000   162566.000000      162566.000000   \n",
       "mean        2.846315  460124.263979       83.458817        5017.562793   \n",
       "std         1.466560  272271.224195        9.373120        7399.315434   \n",
       "min         2.000000      20.000000        0.000000           3.000000   \n",
       "25%         2.000000  142983.250000       78.000000        1502.000000   \n",
       "50%         2.000000  594321.500000       83.000000        1862.000000   \n",
       "75%         3.000000  692362.750000       88.000000        2669.000000   \n",
       "max         9.000000  794435.000000      161.000000       69548.000000   \n",
       "\n",
       "       veh_len_preced      time_gap    temperature  precipitation_humidity  \\\n",
       "count   162566.000000  162566.00000  162566.000000           162566.000000   \n",
       "mean       790.775285     105.26038       4.651409               60.629744   \n",
       "std        481.944297     177.87340       3.219471               18.254615   \n",
       "min        102.000000       1.00000     -13.000000               16.000000   \n",
       "25%        527.000000       6.00000       2.000000               46.000000   \n",
       "50%        560.000000      43.00000       5.000000               58.000000   \n",
       "75%        701.000000     125.00000       7.000000               76.000000   \n",
       "max       2981.000000    1797.00000      24.000000               97.000000   \n",
       "\n",
       "            wind_dir       wind_spd  driving_style  \n",
       "count  162566.000000  162566.000000  162566.000000  \n",
       "mean      182.210038       4.183612       2.147263  \n",
       "std        88.981423       3.024879       0.668102  \n",
       "min         6.000000       0.000000       1.000000  \n",
       "25%       152.000000       1.000000       2.000000  \n",
       "50%       180.000000       4.000000       2.000000  \n",
       "75%       208.000000       7.000000       3.000000  \n",
       "max       360.000000      17.000000       3.000000  "
      ]
     },
     "metadata": {},
     "output_type": "display_data"
    },
    {
     "data": {
      "image/png": "[encoded data removed]",
      "text/plain": [
       "<Figure size 720x720 with 16 Axes>"
      ]
     },
     "metadata": {
      "needs_background": "light"
     },
     "output_type": "display_data"
    }
   ],
   "source": [
    "display(df.describe())\n",
    "%matplotlib inline\n",
    "hist = df.hist(bins=30, sharey=True, figsize=(10, 10))\n",
    "\n",
    "# one-hot-encoding 필요 : road_lane, num_axles\n",
    "# scaler 필요 : veh_len, veh_weight, time_gap"
   ]
  },
  {
   "cell_type": "code",
   "execution_count": 29,
   "metadata": {},
   "outputs": [
    {
     "name": "stdout",
     "output_type": "stream",
     "text": [
      "time\n"
     ]
    },
    {
     "data": {
      "image/png": "[encoded data removed]",
      "text/plain": [
       "<Figure size 432x288 with 4 Axes>"
      ]
     },
     "metadata": {
      "needs_background": "light"
     },
     "output_type": "display_data"
    },
    {
     "name": "stdout",
     "output_type": "stream",
     "text": [
      "veh_len\n"
     ]
    },
    {
     "data": {
      "image/png": "[encoded data removed]",
      "text/plain": [
       "<Figure size 432x288 with 4 Axes>"
      ]
     },
     "metadata": {
      "needs_background": "light"
     },
     "output_type": "display_data"
    },
    {
     "name": "stdout",
     "output_type": "stream",
     "text": [
      "road_lane\n"
     ]
    },
    {
     "data": {
      "image/png": "[encoded data removed]",
      "text/plain": [
       "<Figure size 432x288 with 4 Axes>"
      ]
     },
     "metadata": {
      "needs_background": "light"
     },
     "output_type": "display_data"
    },
    {
     "name": "stdout",
     "output_type": "stream",
     "text": [
      "veh_spd\n"
     ]
    },
    {
     "data": {
      "image/png": "[encoded data removed]",
      "text/plain": [
       "<Figure size 432x288 with 4 Axes>"
      ]
     },
     "metadata": {
      "needs_background": "light"
     },
     "output_type": "display_data"
    },
    {
     "name": "stdout",
     "output_type": "stream",
     "text": [
      "veh_weight\n"
     ]
    },
    {
     "data": {
      "image/png": "[encoded data removed]",
      "text/plain": [
       "<Figure size 432x288 with 4 Axes>"
      ]
     },
     "metadata": {
      "needs_background": "light"
     },
     "output_type": "display_data"
    },
    {
     "name": "stdout",
     "output_type": "stream",
     "text": [
      "num_axles\n"
     ]
    },
    {
     "data": {
      "image/png": "[encoded data removed]",
      "text/plain": [
       "<Figure size 432x288 with 4 Axes>"
      ]
     },
     "metadata": {
      "needs_background": "light"
     },
     "output_type": "display_data"
    },
    {
     "name": "stdout",
     "output_type": "stream",
     "text": [
      "id_preced\n"
     ]
    },
    {
     "data": {
      "image/png": "[encoded data removed]",
      "text/plain": [
       "<Figure size 432x288 with 4 Axes>"
      ]
     },
     "metadata": {
      "needs_background": "light"
     },
     "output_type": "display_data"
    },
    {
     "name": "stdout",
     "output_type": "stream",
     "text": [
      "veh_spd_preced\n"
     ]
    },
    {
     "data": {
      "image/png": "[encoded data removed]",
      "text/plain": [
       "<Figure size 432x288 with 4 Axes>"
      ]
     },
     "metadata": {
      "needs_background": "light"
     },
     "output_type": "display_data"
    },
    {
     "name": "stdout",
     "output_type": "stream",
     "text": [
      "veh_weight_preced\n"
     ]
    },
    {
     "data": {
      "image/png": "[encoded data removed]",
      "text/plain": [
       "<Figure size 432x288 with 4 Axes>"
      ]
     },
     "metadata": {
      "needs_background": "light"
     },
     "output_type": "display_data"
    },
    {
     "name": "stdout",
     "output_type": "stream",
     "text": [
      "veh_len_preced\n"
     ]
    },
    {
     "data": {
      "image/png": "[encoded data removed]",
      "text/plain": [
       "<Figure size 432x288 with 4 Axes>"
      ]
     },
     "metadata": {
      "needs_background": "light"
     },
     "output_type": "display_data"
    },
    {
     "name": "stdout",
     "output_type": "stream",
     "text": [
      "time_gap\n"
     ]
    },
    {
     "data": {
      "image/png": "[encoded data removed]",
      "text/plain": [
       "<Figure size 432x288 with 4 Axes>"
      ]
     },
     "metadata": {
      "needs_background": "light"
     },
     "output_type": "display_data"
    },
    {
     "name": "stdout",
     "output_type": "stream",
     "text": [
      "temperature\n"
     ]
    },
    {
     "data": {
      "image/png": "[encoded data removed]",
      "text/plain": [
       "<Figure size 432x288 with 4 Axes>"
      ]
     },
     "metadata": {
      "needs_background": "light"
     },
     "output_type": "display_data"
    },
    {
     "name": "stdout",
     "output_type": "stream",
     "text": [
      "precipitation_humidity\n"
     ]
    },
    {
     "data": {
      "image/png": "[encoded data removed]",
      "text/plain": [
       "<Figure size 432x288 with 4 Axes>"
      ]
     },
     "metadata": {
      "needs_background": "light"
     },
     "output_type": "display_data"
    },
    {
     "name": "stdout",
     "output_type": "stream",
     "text": [
      "wind_dir\n"
     ]
    },
    {
     "data": {
      "image/png": "[encoded data removed]",
      "text/plain": [
       "<Figure size 432x288 with 4 Axes>"
      ]
     },
     "metadata": {
      "needs_background": "light"
     },
     "output_type": "display_data"
    },
    {
     "name": "stdout",
     "output_type": "stream",
     "text": [
      "wind_spd\n"
     ]
    },
    {
     "data": {
      "image/png": "[encoded data removed]",
      "text/plain": [
       "<Figure size 432x288 with 4 Axes>"
      ]
     },
     "metadata": {
      "needs_background": "light"
     },
     "output_type": "display_data"
    },
    {
     "name": "stdout",
     "output_type": "stream",
     "text": [
      "driving_style\n"
     ]
    },
    {
     "data": {
      "image/png": "[encoded data removed]",
      "text/plain": [
       "<Figure size 432x288 with 4 Axes>"
      ]
     },
     "metadata": {
      "needs_background": "light"
     },
     "output_type": "display_data"
    }
   ],
   "source": [
    "# driving style과의 correlation\n",
    "for column in df.select_dtypes(exclude=['object']).columns:\n",
    "    print(column)\n",
    "    hist = df[column].hist(by=df[y_column], bins=30)\n",
    "    plt.show()"
   ]
  },
  {
   "cell_type": "code",
   "execution_count": 30,
   "metadata": {},
   "outputs": [
    {
     "data": {
      "text/plain": [
       "[Text(0.5, 0, 'veh_len'),\n",
       " Text(1.5, 0, 'road_lane'),\n",
       " Text(2.5, 0, 'veh_spd'),\n",
       " Text(3.5, 0, 'veh_weight'),\n",
       " Text(4.5, 0, 'num_axles'),\n",
       " Text(5.5, 0, 'id_preced'),\n",
       " Text(6.5, 0, 'veh_spd_preced'),\n",
       " Text(7.5, 0, 'veh_weight_preced'),\n",
       " Text(8.5, 0, 'veh_len_preced'),\n",
       " Text(9.5, 0, 'time_gap'),\n",
       " Text(10.5, 0, 'temperature'),\n",
       " Text(11.5, 0, 'precipitation_humidity'),\n",
       " Text(12.5, 0, 'wind_dir'),\n",
       " Text(13.5, 0, 'wind_spd'),\n",
       " Text(14.5, 0, 'driving_style')]"
      ]
     },
     "execution_count": 30,
     "metadata": {},
     "output_type": "execute_result"
    },
    {
     "data": {
      "image/png": "[encoded data removed]",
      "text/plain": [
       "<Figure size 432x288 with 2 Axes>"
      ]
     },
     "metadata": {
      "needs_background": "light"
     },
     "output_type": "display_data"
    }
   ],
   "source": [
    "corr = df.corr()\n",
    "ax = sns.heatmap(corr, vmin=-1, vmax=1, center=0, cmap=sns.diverging_palette(20,200,n=200), square=True)\n",
    "\n",
    "ax.set_xticklabels(ax.get_xticklabels(), rotation=45, horizontalalignment='right')"
   ]
  },
  {
   "cell_type": "code",
   "execution_count": null,
   "metadata": {},
   "outputs": [],
   "source": []
  },
  {
   "cell_type": "markdown",
   "metadata": {},
   "source": [
    "## Feature Engineering"
   ]
  },
  {
   "cell_type": "markdown",
   "metadata": {},
   "source": [
    "### categorical : one-hot-encoding"
   ]
  },
  {
   "cell_type": "code",
   "execution_count": 31,
   "metadata": {},
   "outputs": [
    {
     "data": {
      "text/html": [
       "<div>\n",
       "<style scoped>\n",
       "    .dataframe tbody tr th:only-of-type {\n",
       "        vertical-align: middle;\n",
       "    }\n",
       "\n",
       "    .dataframe tbody tr th {\n",
       "        vertical-align: top;\n",
       "    }\n",
       "\n",
       "    .dataframe thead th {\n",
       "        text-align: right;\n",
       "    }\n",
       "</style>\n",
       "<table border=\"1\" class=\"dataframe\">\n",
       "  <thead>\n",
       "    <tr style=\"text-align: right;\">\n",
       "      <th></th>\n",
       "      <th>clear</th>\n",
       "      <th>rain</th>\n",
       "      <th>snow</th>\n",
       "    </tr>\n",
       "  </thead>\n",
       "  <tbody>\n",
       "    <tr>\n",
       "      <th>0</th>\n",
       "      <td>1</td>\n",
       "      <td>0</td>\n",
       "      <td>0</td>\n",
       "    </tr>\n",
       "    <tr>\n",
       "      <th>1</th>\n",
       "      <td>1</td>\n",
       "      <td>0</td>\n",
       "      <td>0</td>\n",
       "    </tr>\n",
       "    <tr>\n",
       "      <th>2</th>\n",
       "      <td>1</td>\n",
       "      <td>0</td>\n",
       "      <td>0</td>\n",
       "    </tr>\n",
       "    <tr>\n",
       "      <th>3</th>\n",
       "      <td>1</td>\n",
       "      <td>0</td>\n",
       "      <td>0</td>\n",
       "    </tr>\n",
       "    <tr>\n",
       "      <th>4</th>\n",
       "      <td>1</td>\n",
       "      <td>0</td>\n",
       "      <td>0</td>\n",
       "    </tr>\n",
       "  </tbody>\n",
       "</table>\n",
       "</div>"
      ],
      "text/plain": [
       "   clear  rain  snow\n",
       "0      1     0     0\n",
       "1      1     0     0\n",
       "2      1     0     0\n",
       "3      1     0     0\n",
       "4      1     0     0"
      ]
     },
     "execution_count": 31,
     "metadata": {},
     "output_type": "execute_result"
    }
   ],
   "source": [
    "one_hot_pt=pd.get_dummies(df['precipitation_type'])\n",
    "one_hot_pt.head()"
   ]
  },
  {
   "cell_type": "code",
   "execution_count": 32,
   "metadata": {},
   "outputs": [
    {
     "data": {
      "text/html": [
       "<div>\n",
       "<style scoped>\n",
       "    .dataframe tbody tr th:only-of-type {\n",
       "        vertical-align: middle;\n",
       "    }\n",
       "\n",
       "    .dataframe tbody tr th {\n",
       "        vertical-align: top;\n",
       "    }\n",
       "\n",
       "    .dataframe thead th {\n",
       "        text-align: right;\n",
       "    }\n",
       "</style>\n",
       "<table border=\"1\" class=\"dataframe\">\n",
       "  <thead>\n",
       "    <tr style=\"text-align: right;\">\n",
       "      <th></th>\n",
       "      <th>Dry</th>\n",
       "      <th>Snow covered</th>\n",
       "      <th>Visible tracks</th>\n",
       "      <th>Wet</th>\n",
       "    </tr>\n",
       "  </thead>\n",
       "  <tbody>\n",
       "    <tr>\n",
       "      <th>0</th>\n",
       "      <td>1</td>\n",
       "      <td>0</td>\n",
       "      <td>0</td>\n",
       "      <td>0</td>\n",
       "    </tr>\n",
       "    <tr>\n",
       "      <th>1</th>\n",
       "      <td>1</td>\n",
       "      <td>0</td>\n",
       "      <td>0</td>\n",
       "      <td>0</td>\n",
       "    </tr>\n",
       "    <tr>\n",
       "      <th>2</th>\n",
       "      <td>1</td>\n",
       "      <td>0</td>\n",
       "      <td>0</td>\n",
       "      <td>0</td>\n",
       "    </tr>\n",
       "    <tr>\n",
       "      <th>3</th>\n",
       "      <td>1</td>\n",
       "      <td>0</td>\n",
       "      <td>0</td>\n",
       "      <td>0</td>\n",
       "    </tr>\n",
       "    <tr>\n",
       "      <th>4</th>\n",
       "      <td>1</td>\n",
       "      <td>0</td>\n",
       "      <td>0</td>\n",
       "      <td>0</td>\n",
       "    </tr>\n",
       "  </tbody>\n",
       "</table>\n",
       "</div>"
      ],
      "text/plain": [
       "   Dry  Snow covered  Visible tracks  Wet\n",
       "0    1             0               0    0\n",
       "1    1             0               0    0\n",
       "2    1             0               0    0\n",
       "3    1             0               0    0\n",
       "4    1             0               0    0"
      ]
     },
     "execution_count": 32,
     "metadata": {},
     "output_type": "execute_result"
    }
   ],
   "source": [
    "one_hot_rc=pd.get_dummies(df['road_con'])\n",
    "one_hot_rc.head()"
   ]
  },
  {
   "cell_type": "code",
   "execution_count": 33,
   "metadata": {},
   "outputs": [
    {
     "data": {
      "text/html": [
       "<div>\n",
       "<style scoped>\n",
       "    .dataframe tbody tr th:only-of-type {\n",
       "        vertical-align: middle;\n",
       "    }\n",
       "\n",
       "    .dataframe tbody tr th {\n",
       "        vertical-align: top;\n",
       "    }\n",
       "\n",
       "    .dataframe thead th {\n",
       "        text-align: right;\n",
       "    }\n",
       "</style>\n",
       "<table border=\"1\" class=\"dataframe\">\n",
       "  <thead>\n",
       "    <tr style=\"text-align: right;\">\n",
       "      <th></th>\n",
       "      <th>daylight</th>\n",
       "      <th>night</th>\n",
       "      <th>twilight</th>\n",
       "    </tr>\n",
       "  </thead>\n",
       "  <tbody>\n",
       "    <tr>\n",
       "      <th>0</th>\n",
       "      <td>1</td>\n",
       "      <td>0</td>\n",
       "      <td>0</td>\n",
       "    </tr>\n",
       "    <tr>\n",
       "      <th>1</th>\n",
       "      <td>1</td>\n",
       "      <td>0</td>\n",
       "      <td>0</td>\n",
       "    </tr>\n",
       "    <tr>\n",
       "      <th>2</th>\n",
       "      <td>1</td>\n",
       "      <td>0</td>\n",
       "      <td>0</td>\n",
       "    </tr>\n",
       "    <tr>\n",
       "      <th>3</th>\n",
       "      <td>1</td>\n",
       "      <td>0</td>\n",
       "      <td>0</td>\n",
       "    </tr>\n",
       "    <tr>\n",
       "      <th>4</th>\n",
       "      <td>1</td>\n",
       "      <td>0</td>\n",
       "      <td>0</td>\n",
       "    </tr>\n",
       "  </tbody>\n",
       "</table>\n",
       "</div>"
      ],
      "text/plain": [
       "   daylight  night  twilight\n",
       "0         1      0         0\n",
       "1         1      0         0\n",
       "2         1      0         0\n",
       "3         1      0         0\n",
       "4         1      0         0"
      ]
     },
     "execution_count": 33,
     "metadata": {},
     "output_type": "execute_result"
    }
   ],
   "source": [
    "one_hot_lc=pd.get_dummies(df['light_con'])\n",
    "one_hot_lc.head()"
   ]
  },
  {
   "cell_type": "code",
   "execution_count": null,
   "metadata": {},
   "outputs": [],
   "source": []
  },
  {
   "cell_type": "code",
   "execution_count": null,
   "metadata": {},
   "outputs": [],
   "source": []
  },
  {
   "cell_type": "code",
   "execution_count": 34,
   "metadata": {},
   "outputs": [
    {
     "data": {
      "text/plain": [
       "None        151575\n",
       "Low           8149\n",
       "              2274\n",
       "Moderate       469\n",
       "High            99\n",
       "Name: precipitation_intensity, dtype: int64"
      ]
     },
     "execution_count": 34,
     "metadata": {},
     "output_type": "execute_result"
    }
   ],
   "source": [
    "# 데이터 중간에 space 있음\n",
    "df['precipitation_intensity'].value_counts()"
   ]
  },
  {
   "cell_type": "code",
   "execution_count": 35,
   "metadata": {},
   "outputs": [],
   "source": [
    "# replace field that's entirely space (or empty) with NaN\n",
    "df['precipitation_intensity'] = df['precipitation_intensity'].replace(r'^\\s*$', np.nan, regex=True)"
   ]
  },
  {
   "cell_type": "code",
   "execution_count": 37,
   "metadata": {},
   "outputs": [
    {
     "data": {
      "text/plain": [
       "2274"
      ]
     },
     "execution_count": 37,
     "metadata": {},
     "output_type": "execute_result"
    }
   ],
   "source": [
    "df['precipitation_intensity'].isnull().sum()"
   ]
  },
  {
   "cell_type": "code",
   "execution_count": 38,
   "metadata": {},
   "outputs": [
    {
     "name": "stdout",
     "output_type": "stream",
     "text": [
      "<class 'pandas.core.frame.DataFrame'>\n",
      "Int64Index: 5944 entries, 877 to 162565\n",
      "Data columns (total 21 columns):\n",
      " #   Column                   Non-Null Count  Dtype         \n",
      "---  ------                   --------------  -----         \n",
      " 0   id                       5944 non-null   object        \n",
      " 1   time                     5944 non-null   datetime64[ns]\n",
      " 2   veh_len                  5944 non-null   int64         \n",
      " 3   road_lane                5944 non-null   int64         \n",
      " 4   veh_spd                  5944 non-null   int64         \n",
      " 5   veh_weight               5944 non-null   int64         \n",
      " 6   num_axles                5944 non-null   int64         \n",
      " 7   id_preced                5944 non-null   int64         \n",
      " 8   veh_spd_preced           5944 non-null   int64         \n",
      " 9   veh_weight_preced        5944 non-null   int64         \n",
      " 10  veh_len_preced           5944 non-null   int64         \n",
      " 11  time_gap                 5944 non-null   float64       \n",
      " 12  temperature              5944 non-null   float64       \n",
      " 13  precipitation_type       5944 non-null   object        \n",
      " 14  precipitation_intensity  3712 non-null   object        \n",
      " 15  precipitation_humidity   5944 non-null   float64       \n",
      " 16  wind_dir                 5944 non-null   float64       \n",
      " 17  wind_spd                 5944 non-null   float64       \n",
      " 18  road_con                 5944 non-null   object        \n",
      " 19  light_con                5944 non-null   object        \n",
      " 20  driving_style            5944 non-null   int64         \n",
      "dtypes: datetime64[ns](1), float64(5), int64(10), object(5)\n",
      "memory usage: 1021.6+ KB\n"
     ]
    }
   ],
   "source": [
    "df_snow = df[df['precipitation_type'].str.contains('snow')]\n",
    "df_snow.info()"
   ]
  },
  {
   "cell_type": "code",
   "execution_count": 39,
   "metadata": {},
   "outputs": [
    {
     "data": {
      "text/plain": [
       "Low         3228\n",
       "Moderate     336\n",
       "None         108\n",
       "High          40\n",
       "Name: precipitation_intensity, dtype: int64"
      ]
     },
     "execution_count": 39,
     "metadata": {},
     "output_type": "execute_result"
    }
   ],
   "source": [
    "df_snow['precipitation_intensity'].value_counts()"
   ]
  },
  {
   "cell_type": "code",
   "execution_count": 40,
   "metadata": {},
   "outputs": [
    {
     "data": {
      "text/plain": [
       "Low         4921\n",
       "None         208\n",
       "Moderate     133\n",
       "High          59\n",
       "Name: precipitation_intensity, dtype: int64"
      ]
     },
     "execution_count": 40,
     "metadata": {},
     "output_type": "execute_result"
    }
   ],
   "source": [
    "df_rain = df[df['precipitation_type'].str.contains('rain')]\n",
    "df_rain['precipitation_intensity'].value_counts()"
   ]
  },
  {
   "cell_type": "code",
   "execution_count": 41,
   "metadata": {},
   "outputs": [
    {
     "data": {
      "text/plain": [
       "None    151259\n",
       "Name: precipitation_intensity, dtype: int64"
      ]
     },
     "execution_count": 41,
     "metadata": {},
     "output_type": "execute_result"
    }
   ],
   "source": [
    "df_clear = df[df['precipitation_type'].str.contains('clear')]\n",
    "df_clear['precipitation_intensity'].value_counts()"
   ]
  },
  {
   "cell_type": "code",
   "execution_count": 49,
   "metadata": {},
   "outputs": [
    {
     "name": "stdout",
     "output_type": "stream",
     "text": [
      "<class 'pandas.core.frame.DataFrame'>\n",
      "Int64Index: 162566 entries, 0 to 162565\n",
      "Data columns (total 21 columns):\n",
      " #   Column                   Non-Null Count   Dtype         \n",
      "---  ------                   --------------   -----         \n",
      " 0   id                       162566 non-null  object        \n",
      " 1   time                     162566 non-null  datetime64[ns]\n",
      " 2   veh_len                  162566 non-null  int64         \n",
      " 3   road_lane                162566 non-null  int64         \n",
      " 4   veh_spd                  162566 non-null  int64         \n",
      " 5   veh_weight               162566 non-null  int64         \n",
      " 6   num_axles                162566 non-null  int64         \n",
      " 7   id_preced                162566 non-null  int64         \n",
      " 8   veh_spd_preced           162566 non-null  int64         \n",
      " 9   veh_weight_preced        162566 non-null  int64         \n",
      " 10  veh_len_preced           162566 non-null  int64         \n",
      " 11  time_gap                 162566 non-null  float64       \n",
      " 12  temperature              162566 non-null  float64       \n",
      " 13  precipitation_type       162566 non-null  object        \n",
      " 14  precipitation_intensity  162566 non-null  object        \n",
      " 15  precipitation_humidity   162566 non-null  float64       \n",
      " 16  wind_dir                 162566 non-null  float64       \n",
      " 17  wind_spd                 162566 non-null  float64       \n",
      " 18  road_con                 162566 non-null  object        \n",
      " 19  light_con                162566 non-null  object        \n",
      " 20  driving_style            162566 non-null  int64         \n",
      "dtypes: datetime64[ns](1), float64(5), int64(10), object(5)\n",
      "memory usage: 32.3+ MB\n"
     ]
    }
   ],
   "source": [
    "df_pi = df\n",
    "df_pi.info()"
   ]
  },
  {
   "cell_type": "code",
   "execution_count": 50,
   "metadata": {},
   "outputs": [
    {
     "data": {
      "text/plain": [
       "0"
      ]
     },
     "execution_count": 50,
     "metadata": {},
     "output_type": "execute_result"
    }
   ],
   "source": [
    "df_pi['precipitation_intensity'].isnull().sum()"
   ]
  },
  {
   "cell_type": "code",
   "execution_count": 51,
   "metadata": {},
   "outputs": [
    {
     "data": {
      "text/plain": [
       "None        151575\n",
       "Low          10423\n",
       "Moderate       469\n",
       "High            99\n",
       "Name: precipitation_intensity, dtype: int64"
      ]
     },
     "execution_count": 51,
     "metadata": {},
     "output_type": "execute_result"
    }
   ],
   "source": [
    "df_pi['precipitation_intensity'].value_counts()"
   ]
  },
  {
   "cell_type": "code",
   "execution_count": 52,
   "metadata": {},
   "outputs": [
    {
     "name": "stdout",
     "output_type": "stream",
     "text": [
      "<class 'pandas.core.frame.DataFrame'>\n",
      "Int64Index: 162566 entries, 0 to 162565\n",
      "Data columns (total 21 columns):\n",
      " #   Column                   Non-Null Count   Dtype         \n",
      "---  ------                   --------------   -----         \n",
      " 0   id                       162566 non-null  object        \n",
      " 1   time                     162566 non-null  datetime64[ns]\n",
      " 2   veh_len                  162566 non-null  int64         \n",
      " 3   road_lane                162566 non-null  int64         \n",
      " 4   veh_spd                  162566 non-null  int64         \n",
      " 5   veh_weight               162566 non-null  int64         \n",
      " 6   num_axles                162566 non-null  int64         \n",
      " 7   id_preced                162566 non-null  int64         \n",
      " 8   veh_spd_preced           162566 non-null  int64         \n",
      " 9   veh_weight_preced        162566 non-null  int64         \n",
      " 10  veh_len_preced           162566 non-null  int64         \n",
      " 11  time_gap                 162566 non-null  float64       \n",
      " 12  temperature              162566 non-null  float64       \n",
      " 13  precipitation_type       162566 non-null  object        \n",
      " 14  precipitation_intensity  162566 non-null  object        \n",
      " 15  precipitation_humidity   162566 non-null  float64       \n",
      " 16  wind_dir                 162566 non-null  float64       \n",
      " 17  wind_spd                 162566 non-null  float64       \n",
      " 18  road_con                 162566 non-null  object        \n",
      " 19  light_con                162566 non-null  object        \n",
      " 20  driving_style            162566 non-null  int64         \n",
      "dtypes: datetime64[ns](1), float64(5), int64(10), object(5)\n",
      "memory usage: 32.3+ MB\n"
     ]
    }
   ],
   "source": [
    "df_pi['precipitation_intensity'] = np.where(df_pi['precipitation_type'].isin(['snow', 'rain']) & df_pi['precipitation_intensity'].isnull(), 'Low', df_pi['precipitation_intensity'])\n",
    "df_pi.info()"
   ]
  },
  {
   "cell_type": "code",
   "execution_count": 53,
   "metadata": {},
   "outputs": [
    {
     "data": {
      "text/plain": [
       "0"
      ]
     },
     "execution_count": 53,
     "metadata": {},
     "output_type": "execute_result"
    }
   ],
   "source": [
    "df_pi['precipitation_intensity'].isnull().sum()"
   ]
  },
  {
   "cell_type": "code",
   "execution_count": 54,
   "metadata": {},
   "outputs": [
    {
     "data": {
      "text/plain": [
       "<AxesSubplot:>"
      ]
     },
     "execution_count": 54,
     "metadata": {},
     "output_type": "execute_result"
    },
    {
     "data": {
      "image/png": "[encoded data removed]",
      "text/plain": [
       "<Figure size 432x288 with 1 Axes>"
      ]
     },
     "metadata": {
      "needs_background": "light"
     },
     "output_type": "display_data"
    }
   ],
   "source": [
    "%matplotlib inline\n",
    "sns.heatmap(df_pi.isnull(), cbar=False)"
   ]
  },
  {
   "cell_type": "code",
   "execution_count": null,
   "metadata": {},
   "outputs": [],
   "source": []
  },
  {
   "cell_type": "code",
   "execution_count": 55,
   "metadata": {},
   "outputs": [
    {
     "data": {
      "text/plain": [
       "None        151575\n",
       "Low          10423\n",
       "Moderate       469\n",
       "High            99\n",
       "Name: precipitation_intensity, dtype: int64"
      ]
     },
     "execution_count": 55,
     "metadata": {},
     "output_type": "execute_result"
    }
   ],
   "source": [
    "df_pi['precipitation_intensity'].value_counts()"
   ]
  },
  {
   "cell_type": "code",
   "execution_count": 56,
   "metadata": {},
   "outputs": [
    {
     "data": {
      "text/html": [
       "<div>\n",
       "<style scoped>\n",
       "    .dataframe tbody tr th:only-of-type {\n",
       "        vertical-align: middle;\n",
       "    }\n",
       "\n",
       "    .dataframe tbody tr th {\n",
       "        vertical-align: top;\n",
       "    }\n",
       "\n",
       "    .dataframe thead th {\n",
       "        text-align: right;\n",
       "    }\n",
       "</style>\n",
       "<table border=\"1\" class=\"dataframe\">\n",
       "  <thead>\n",
       "    <tr style=\"text-align: right;\">\n",
       "      <th></th>\n",
       "      <th>High</th>\n",
       "      <th>Low</th>\n",
       "      <th>Moderate</th>\n",
       "      <th>None</th>\n",
       "    </tr>\n",
       "  </thead>\n",
       "  <tbody>\n",
       "    <tr>\n",
       "      <th>0</th>\n",
       "      <td>0</td>\n",
       "      <td>0</td>\n",
       "      <td>0</td>\n",
       "      <td>1</td>\n",
       "    </tr>\n",
       "    <tr>\n",
       "      <th>1</th>\n",
       "      <td>0</td>\n",
       "      <td>0</td>\n",
       "      <td>0</td>\n",
       "      <td>1</td>\n",
       "    </tr>\n",
       "    <tr>\n",
       "      <th>2</th>\n",
       "      <td>0</td>\n",
       "      <td>0</td>\n",
       "      <td>0</td>\n",
       "      <td>1</td>\n",
       "    </tr>\n",
       "    <tr>\n",
       "      <th>3</th>\n",
       "      <td>0</td>\n",
       "      <td>0</td>\n",
       "      <td>0</td>\n",
       "      <td>1</td>\n",
       "    </tr>\n",
       "    <tr>\n",
       "      <th>4</th>\n",
       "      <td>0</td>\n",
       "      <td>0</td>\n",
       "      <td>0</td>\n",
       "      <td>1</td>\n",
       "    </tr>\n",
       "  </tbody>\n",
       "</table>\n",
       "</div>"
      ],
      "text/plain": [
       "   High  Low  Moderate  None\n",
       "0     0    0         0     1\n",
       "1     0    0         0     1\n",
       "2     0    0         0     1\n",
       "3     0    0         0     1\n",
       "4     0    0         0     1"
      ]
     },
     "execution_count": 56,
     "metadata": {},
     "output_type": "execute_result"
    }
   ],
   "source": [
    "one_hot_pi=pd.get_dummies(df_pi['precipitation_intensity'])\n",
    "one_hot_pi.head()"
   ]
  },
  {
   "cell_type": "code",
   "execution_count": 57,
   "metadata": {},
   "outputs": [
    {
     "data": {
      "text/html": [
       "<div>\n",
       "<style scoped>\n",
       "    .dataframe tbody tr th:only-of-type {\n",
       "        vertical-align: middle;\n",
       "    }\n",
       "\n",
       "    .dataframe tbody tr th {\n",
       "        vertical-align: top;\n",
       "    }\n",
       "\n",
       "    .dataframe thead th {\n",
       "        text-align: right;\n",
       "    }\n",
       "</style>\n",
       "<table border=\"1\" class=\"dataframe\">\n",
       "  <thead>\n",
       "    <tr style=\"text-align: right;\">\n",
       "      <th></th>\n",
       "      <th>lane1</th>\n",
       "      <th>lane2</th>\n",
       "    </tr>\n",
       "  </thead>\n",
       "  <tbody>\n",
       "    <tr>\n",
       "      <th>0</th>\n",
       "      <td>1</td>\n",
       "      <td>0</td>\n",
       "    </tr>\n",
       "    <tr>\n",
       "      <th>1</th>\n",
       "      <td>1</td>\n",
       "      <td>0</td>\n",
       "    </tr>\n",
       "    <tr>\n",
       "      <th>2</th>\n",
       "      <td>1</td>\n",
       "      <td>0</td>\n",
       "    </tr>\n",
       "    <tr>\n",
       "      <th>3</th>\n",
       "      <td>0</td>\n",
       "      <td>1</td>\n",
       "    </tr>\n",
       "    <tr>\n",
       "      <th>4</th>\n",
       "      <td>1</td>\n",
       "      <td>0</td>\n",
       "    </tr>\n",
       "  </tbody>\n",
       "</table>\n",
       "</div>"
      ],
      "text/plain": [
       "   lane1  lane2\n",
       "0      1      0\n",
       "1      1      0\n",
       "2      1      0\n",
       "3      0      1\n",
       "4      1      0"
      ]
     },
     "execution_count": 57,
     "metadata": {},
     "output_type": "execute_result"
    }
   ],
   "source": [
    "one_hot_rl=pd.get_dummies(df['road_lane'])\n",
    "one_hot_rl['lane1']=one_hot_rl[1]\n",
    "one_hot_rl['lane2']=one_hot_rl[2]\n",
    "one_hot_rl = pd.concat([one_hot_rl['lane1'], one_hot_rl['lane2']], axis = 1)\n",
    "one_hot_rl.head()"
   ]
  },
  {
   "cell_type": "code",
   "execution_count": 58,
   "metadata": {},
   "outputs": [
    {
     "data": {
      "text/plain": [
       "2    116972\n",
       "6     19318\n",
       "5     12538\n",
       "4      7836\n",
       "3      5629\n",
       "7       255\n",
       "9        12\n",
       "8         6\n",
       "Name: num_axles, dtype: int64"
      ]
     },
     "execution_count": 58,
     "metadata": {},
     "output_type": "execute_result"
    }
   ],
   "source": [
    "df['num_axles'].value_counts()"
   ]
  },
  {
   "cell_type": "code",
   "execution_count": 59,
   "metadata": {},
   "outputs": [
    {
     "data": {
      "text/html": [
       "<div>\n",
       "<style scoped>\n",
       "    .dataframe tbody tr th:only-of-type {\n",
       "        vertical-align: middle;\n",
       "    }\n",
       "\n",
       "    .dataframe tbody tr th {\n",
       "        vertical-align: top;\n",
       "    }\n",
       "\n",
       "    .dataframe thead th {\n",
       "        text-align: right;\n",
       "    }\n",
       "</style>\n",
       "<table border=\"1\" class=\"dataframe\">\n",
       "  <thead>\n",
       "    <tr style=\"text-align: right;\">\n",
       "      <th></th>\n",
       "      <th>axles2</th>\n",
       "      <th>axles3</th>\n",
       "      <th>axles4</th>\n",
       "      <th>axles5</th>\n",
       "      <th>axles6</th>\n",
       "      <th>axles7</th>\n",
       "      <th>axles8</th>\n",
       "      <th>axles9</th>\n",
       "    </tr>\n",
       "  </thead>\n",
       "  <tbody>\n",
       "    <tr>\n",
       "      <th>0</th>\n",
       "      <td>1</td>\n",
       "      <td>0</td>\n",
       "      <td>0</td>\n",
       "      <td>0</td>\n",
       "      <td>0</td>\n",
       "      <td>0</td>\n",
       "      <td>0</td>\n",
       "      <td>0</td>\n",
       "    </tr>\n",
       "    <tr>\n",
       "      <th>1</th>\n",
       "      <td>1</td>\n",
       "      <td>0</td>\n",
       "      <td>0</td>\n",
       "      <td>0</td>\n",
       "      <td>0</td>\n",
       "      <td>0</td>\n",
       "      <td>0</td>\n",
       "      <td>0</td>\n",
       "    </tr>\n",
       "    <tr>\n",
       "      <th>2</th>\n",
       "      <td>1</td>\n",
       "      <td>0</td>\n",
       "      <td>0</td>\n",
       "      <td>0</td>\n",
       "      <td>0</td>\n",
       "      <td>0</td>\n",
       "      <td>0</td>\n",
       "      <td>0</td>\n",
       "    </tr>\n",
       "    <tr>\n",
       "      <th>3</th>\n",
       "      <td>1</td>\n",
       "      <td>0</td>\n",
       "      <td>0</td>\n",
       "      <td>0</td>\n",
       "      <td>0</td>\n",
       "      <td>0</td>\n",
       "      <td>0</td>\n",
       "      <td>0</td>\n",
       "    </tr>\n",
       "    <tr>\n",
       "      <th>4</th>\n",
       "      <td>1</td>\n",
       "      <td>0</td>\n",
       "      <td>0</td>\n",
       "      <td>0</td>\n",
       "      <td>0</td>\n",
       "      <td>0</td>\n",
       "      <td>0</td>\n",
       "      <td>0</td>\n",
       "    </tr>\n",
       "  </tbody>\n",
       "</table>\n",
       "</div>"
      ],
      "text/plain": [
       "   axles2  axles3  axles4  axles5  axles6  axles7  axles8  axles9\n",
       "0       1       0       0       0       0       0       0       0\n",
       "1       1       0       0       0       0       0       0       0\n",
       "2       1       0       0       0       0       0       0       0\n",
       "3       1       0       0       0       0       0       0       0\n",
       "4       1       0       0       0       0       0       0       0"
      ]
     },
     "execution_count": 59,
     "metadata": {},
     "output_type": "execute_result"
    }
   ],
   "source": [
    "one_hot_ax=pd.get_dummies(df['num_axles'])\n",
    "one_hot_ax['axles2']=one_hot_ax[2]\n",
    "one_hot_ax['axles3']=one_hot_ax[3]\n",
    "one_hot_ax['axles4']=one_hot_ax[4]\n",
    "one_hot_ax['axles5']=one_hot_ax[5]\n",
    "one_hot_ax['axles6']=one_hot_ax[6]\n",
    "one_hot_ax['axles7']=one_hot_ax[7]\n",
    "one_hot_ax['axles8']=one_hot_ax[8]\n",
    "one_hot_ax['axles9']=one_hot_ax[9]\n",
    "one_hot_ax = pd.concat([one_hot_ax['axles2'], one_hot_ax['axles3'], one_hot_ax['axles4'], one_hot_ax['axles5'], one_hot_ax['axles6'], one_hot_ax['axles7'], one_hot_ax['axles8'], one_hot_ax['axles9']], axis = 1)\n",
    "one_hot_ax.head()"
   ]
  },
  {
   "cell_type": "code",
   "execution_count": null,
   "metadata": {},
   "outputs": [],
   "source": []
  },
  {
   "cell_type": "markdown",
   "metadata": {},
   "source": [
    "### numeric : min-max-scalar"
   ]
  },
  {
   "cell_type": "code",
   "execution_count": 60,
   "metadata": {},
   "outputs": [],
   "source": [
    "from sklearn.preprocessing import MinMaxScaler\n",
    "numeric_features = ['veh_len', 'veh_weight', 'veh_weight_preced', 'veh_len_preced', 'time_gap']\n",
    "scaler = MinMaxScaler()\n",
    "transformed_data = scaler.fit_transform(df[numeric_features])"
   ]
  },
  {
   "cell_type": "code",
   "execution_count": 61,
   "metadata": {},
   "outputs": [
    {
     "data": {
      "text/plain": [
       "array([[0.50870761, 0.17834785, 0.2442016 , 0.29142063, 0.05178174],\n",
       "       [0.50870761, 0.17834785, 0.0245165 , 0.15595693, 0.00556793],\n",
       "       [0.50870761, 0.17834785, 0.32912503, 0.55435915, 0.00167038],\n",
       "       ...,\n",
       "       [0.2543538 , 0.05595775, 0.02937666, 0.16325113, 0.02115813],\n",
       "       [0.84601283, 0.48557339, 0.04660292, 0.21118444, 0.        ],\n",
       "       [0.84601283, 0.48557339, 0.01673736, 0.15039944, 0.05902004]])"
      ]
     },
     "execution_count": 61,
     "metadata": {},
     "output_type": "execute_result"
    }
   ],
   "source": [
    "transformed_data"
   ]
  },
  {
   "cell_type": "code",
   "execution_count": 62,
   "metadata": {},
   "outputs": [
    {
     "data": {
      "text/html": [
       "<div>\n",
       "<style scoped>\n",
       "    .dataframe tbody tr th:only-of-type {\n",
       "        vertical-align: middle;\n",
       "    }\n",
       "\n",
       "    .dataframe tbody tr th {\n",
       "        vertical-align: top;\n",
       "    }\n",
       "\n",
       "    .dataframe thead th {\n",
       "        text-align: right;\n",
       "    }\n",
       "</style>\n",
       "<table border=\"1\" class=\"dataframe\">\n",
       "  <thead>\n",
       "    <tr style=\"text-align: right;\">\n",
       "      <th></th>\n",
       "      <th>0</th>\n",
       "      <th>1</th>\n",
       "      <th>2</th>\n",
       "      <th>3</th>\n",
       "      <th>4</th>\n",
       "    </tr>\n",
       "  </thead>\n",
       "  <tbody>\n",
       "    <tr>\n",
       "      <th>0</th>\n",
       "      <td>0.508708</td>\n",
       "      <td>0.178348</td>\n",
       "      <td>0.244202</td>\n",
       "      <td>0.291421</td>\n",
       "      <td>0.051782</td>\n",
       "    </tr>\n",
       "    <tr>\n",
       "      <th>1</th>\n",
       "      <td>0.508708</td>\n",
       "      <td>0.178348</td>\n",
       "      <td>0.024517</td>\n",
       "      <td>0.155957</td>\n",
       "      <td>0.005568</td>\n",
       "    </tr>\n",
       "    <tr>\n",
       "      <th>2</th>\n",
       "      <td>0.508708</td>\n",
       "      <td>0.178348</td>\n",
       "      <td>0.329125</td>\n",
       "      <td>0.554359</td>\n",
       "      <td>0.001670</td>\n",
       "    </tr>\n",
       "    <tr>\n",
       "      <th>3</th>\n",
       "      <td>0.508708</td>\n",
       "      <td>0.178348</td>\n",
       "      <td>0.027924</td>\n",
       "      <td>0.153526</td>\n",
       "      <td>0.070156</td>\n",
       "    </tr>\n",
       "    <tr>\n",
       "      <th>4</th>\n",
       "      <td>0.508708</td>\n",
       "      <td>0.178348</td>\n",
       "      <td>0.198203</td>\n",
       "      <td>0.622091</td>\n",
       "      <td>0.022829</td>\n",
       "    </tr>\n",
       "    <tr>\n",
       "      <th>...</th>\n",
       "      <td>...</td>\n",
       "      <td>...</td>\n",
       "      <td>...</td>\n",
       "      <td>...</td>\n",
       "      <td>...</td>\n",
       "    </tr>\n",
       "    <tr>\n",
       "      <th>162561</th>\n",
       "      <td>0.254354</td>\n",
       "      <td>0.055958</td>\n",
       "      <td>0.209562</td>\n",
       "      <td>0.333796</td>\n",
       "      <td>0.001114</td>\n",
       "    </tr>\n",
       "    <tr>\n",
       "      <th>162562</th>\n",
       "      <td>0.254354</td>\n",
       "      <td>0.055958</td>\n",
       "      <td>0.154217</td>\n",
       "      <td>0.623133</td>\n",
       "      <td>0.068486</td>\n",
       "    </tr>\n",
       "    <tr>\n",
       "      <th>162563</th>\n",
       "      <td>0.254354</td>\n",
       "      <td>0.055958</td>\n",
       "      <td>0.029377</td>\n",
       "      <td>0.163251</td>\n",
       "      <td>0.021158</td>\n",
       "    </tr>\n",
       "    <tr>\n",
       "      <th>162564</th>\n",
       "      <td>0.846013</td>\n",
       "      <td>0.485573</td>\n",
       "      <td>0.046603</td>\n",
       "      <td>0.211184</td>\n",
       "      <td>0.000000</td>\n",
       "    </tr>\n",
       "    <tr>\n",
       "      <th>162565</th>\n",
       "      <td>0.846013</td>\n",
       "      <td>0.485573</td>\n",
       "      <td>0.016737</td>\n",
       "      <td>0.150399</td>\n",
       "      <td>0.059020</td>\n",
       "    </tr>\n",
       "  </tbody>\n",
       "</table>\n",
       "<p>162566 rows × 5 columns</p>\n",
       "</div>"
      ],
      "text/plain": [
       "               0         1         2         3         4\n",
       "0       0.508708  0.178348  0.244202  0.291421  0.051782\n",
       "1       0.508708  0.178348  0.024517  0.155957  0.005568\n",
       "2       0.508708  0.178348  0.329125  0.554359  0.001670\n",
       "3       0.508708  0.178348  0.027924  0.153526  0.070156\n",
       "4       0.508708  0.178348  0.198203  0.622091  0.022829\n",
       "...          ...       ...       ...       ...       ...\n",
       "162561  0.254354  0.055958  0.209562  0.333796  0.001114\n",
       "162562  0.254354  0.055958  0.154217  0.623133  0.068486\n",
       "162563  0.254354  0.055958  0.029377  0.163251  0.021158\n",
       "162564  0.846013  0.485573  0.046603  0.211184  0.000000\n",
       "162565  0.846013  0.485573  0.016737  0.150399  0.059020\n",
       "\n",
       "[162566 rows x 5 columns]"
      ]
     },
     "execution_count": 62,
     "metadata": {},
     "output_type": "execute_result"
    }
   ],
   "source": [
    "transformed_df = pd.DataFrame(transformed_data)\n",
    "transformed_df"
   ]
  },
  {
   "cell_type": "code",
   "execution_count": 63,
   "metadata": {},
   "outputs": [
    {
     "data": {
      "text/html": [
       "<div>\n",
       "<style scoped>\n",
       "    .dataframe tbody tr th:only-of-type {\n",
       "        vertical-align: middle;\n",
       "    }\n",
       "\n",
       "    .dataframe tbody tr th {\n",
       "        vertical-align: top;\n",
       "    }\n",
       "\n",
       "    .dataframe thead th {\n",
       "        text-align: right;\n",
       "    }\n",
       "</style>\n",
       "<table border=\"1\" class=\"dataframe\">\n",
       "  <thead>\n",
       "    <tr style=\"text-align: right;\">\n",
       "      <th></th>\n",
       "      <th>veh_len</th>\n",
       "      <th>veh_weight</th>\n",
       "      <th>veh_weight_preced</th>\n",
       "      <th>veh_len_preced</th>\n",
       "      <th>time_gap</th>\n",
       "    </tr>\n",
       "  </thead>\n",
       "  <tbody>\n",
       "    <tr>\n",
       "      <th>0</th>\n",
       "      <td>0.508708</td>\n",
       "      <td>0.178348</td>\n",
       "      <td>0.244202</td>\n",
       "      <td>0.291421</td>\n",
       "      <td>0.051782</td>\n",
       "    </tr>\n",
       "    <tr>\n",
       "      <th>1</th>\n",
       "      <td>0.508708</td>\n",
       "      <td>0.178348</td>\n",
       "      <td>0.024517</td>\n",
       "      <td>0.155957</td>\n",
       "      <td>0.005568</td>\n",
       "    </tr>\n",
       "    <tr>\n",
       "      <th>2</th>\n",
       "      <td>0.508708</td>\n",
       "      <td>0.178348</td>\n",
       "      <td>0.329125</td>\n",
       "      <td>0.554359</td>\n",
       "      <td>0.001670</td>\n",
       "    </tr>\n",
       "    <tr>\n",
       "      <th>3</th>\n",
       "      <td>0.508708</td>\n",
       "      <td>0.178348</td>\n",
       "      <td>0.027924</td>\n",
       "      <td>0.153526</td>\n",
       "      <td>0.070156</td>\n",
       "    </tr>\n",
       "    <tr>\n",
       "      <th>4</th>\n",
       "      <td>0.508708</td>\n",
       "      <td>0.178348</td>\n",
       "      <td>0.198203</td>\n",
       "      <td>0.622091</td>\n",
       "      <td>0.022829</td>\n",
       "    </tr>\n",
       "  </tbody>\n",
       "</table>\n",
       "</div>"
      ],
      "text/plain": [
       "    veh_len  veh_weight  veh_weight_preced  veh_len_preced  time_gap\n",
       "0  0.508708    0.178348           0.244202        0.291421  0.051782\n",
       "1  0.508708    0.178348           0.024517        0.155957  0.005568\n",
       "2  0.508708    0.178348           0.329125        0.554359  0.001670\n",
       "3  0.508708    0.178348           0.027924        0.153526  0.070156\n",
       "4  0.508708    0.178348           0.198203        0.622091  0.022829"
      ]
     },
     "execution_count": 63,
     "metadata": {},
     "output_type": "execute_result"
    }
   ],
   "source": [
    "transformed_df['veh_len']=transformed_df[0]\n",
    "transformed_df['veh_weight']=transformed_df[1]\n",
    "transformed_df['veh_weight_preced']=transformed_df[2]\n",
    "transformed_df['veh_len_preced']=transformed_df[3]\n",
    "transformed_df['time_gap']=transformed_df[4]\n",
    "transformed_df = pd.concat([transformed_df['veh_len'], transformed_df['veh_weight'], transformed_df['veh_weight_preced'], transformed_df['veh_len_preced'], transformed_df['time_gap']], axis = 1)\n",
    "transformed_df.head()"
   ]
  },
  {
   "cell_type": "code",
   "execution_count": 64,
   "metadata": {},
   "outputs": [
    {
     "data": {
      "text/plain": [
       "(162566, 37)"
      ]
     },
     "execution_count": 64,
     "metadata": {},
     "output_type": "execute_result"
    }
   ],
   "source": [
    "final_df = pd.concat([df['driving_style'], one_hot_pt, one_hot_pi, one_hot_rc, one_hot_lc, one_hot_rl, one_hot_ax, transformed_df, df['veh_spd'], df['id_preced'], df['veh_spd_preced'], df['temperature'], df['precipitation_humidity'], df['wind_dir'], df['wind_spd']], axis = 1)\n",
    "final_df.shape"
   ]
  },
  {
   "cell_type": "code",
   "execution_count": 65,
   "metadata": {},
   "outputs": [
    {
     "data": {
      "text/html": [
       "<div>\n",
       "<style scoped>\n",
       "    .dataframe tbody tr th:only-of-type {\n",
       "        vertical-align: middle;\n",
       "    }\n",
       "\n",
       "    .dataframe tbody tr th {\n",
       "        vertical-align: top;\n",
       "    }\n",
       "\n",
       "    .dataframe thead th {\n",
       "        text-align: right;\n",
       "    }\n",
       "</style>\n",
       "<table border=\"1\" class=\"dataframe\">\n",
       "  <thead>\n",
       "    <tr style=\"text-align: right;\">\n",
       "      <th></th>\n",
       "      <th>driving_style</th>\n",
       "      <th>clear</th>\n",
       "      <th>rain</th>\n",
       "      <th>snow</th>\n",
       "      <th>High</th>\n",
       "      <th>Low</th>\n",
       "      <th>Moderate</th>\n",
       "      <th>None</th>\n",
       "      <th>Dry</th>\n",
       "      <th>Snow covered</th>\n",
       "      <th>...</th>\n",
       "      <th>veh_weight_preced</th>\n",
       "      <th>veh_len_preced</th>\n",
       "      <th>time_gap</th>\n",
       "      <th>veh_spd</th>\n",
       "      <th>id_preced</th>\n",
       "      <th>veh_spd_preced</th>\n",
       "      <th>temperature</th>\n",
       "      <th>precipitation_humidity</th>\n",
       "      <th>wind_dir</th>\n",
       "      <th>wind_spd</th>\n",
       "    </tr>\n",
       "  </thead>\n",
       "  <tbody>\n",
       "    <tr>\n",
       "      <th>0</th>\n",
       "      <td>2</td>\n",
       "      <td>1</td>\n",
       "      <td>0</td>\n",
       "      <td>0</td>\n",
       "      <td>0</td>\n",
       "      <td>0</td>\n",
       "      <td>0</td>\n",
       "      <td>1</td>\n",
       "      <td>1</td>\n",
       "      <td>0</td>\n",
       "      <td>...</td>\n",
       "      <td>0.244202</td>\n",
       "      <td>0.291421</td>\n",
       "      <td>0.051782</td>\n",
       "      <td>81</td>\n",
       "      <td>57227</td>\n",
       "      <td>87</td>\n",
       "      <td>7.0</td>\n",
       "      <td>95.0</td>\n",
       "      <td>146.0</td>\n",
       "      <td>1.0</td>\n",
       "    </tr>\n",
       "    <tr>\n",
       "      <th>1</th>\n",
       "      <td>2</td>\n",
       "      <td>1</td>\n",
       "      <td>0</td>\n",
       "      <td>0</td>\n",
       "      <td>0</td>\n",
       "      <td>0</td>\n",
       "      <td>0</td>\n",
       "      <td>1</td>\n",
       "      <td>1</td>\n",
       "      <td>0</td>\n",
       "      <td>...</td>\n",
       "      <td>0.024517</td>\n",
       "      <td>0.155957</td>\n",
       "      <td>0.005568</td>\n",
       "      <td>88</td>\n",
       "      <td>57229</td>\n",
       "      <td>81</td>\n",
       "      <td>7.0</td>\n",
       "      <td>95.0</td>\n",
       "      <td>124.0</td>\n",
       "      <td>0.0</td>\n",
       "    </tr>\n",
       "    <tr>\n",
       "      <th>2</th>\n",
       "      <td>2</td>\n",
       "      <td>1</td>\n",
       "      <td>0</td>\n",
       "      <td>0</td>\n",
       "      <td>0</td>\n",
       "      <td>0</td>\n",
       "      <td>0</td>\n",
       "      <td>1</td>\n",
       "      <td>1</td>\n",
       "      <td>0</td>\n",
       "      <td>...</td>\n",
       "      <td>0.329125</td>\n",
       "      <td>0.554359</td>\n",
       "      <td>0.001670</td>\n",
       "      <td>88</td>\n",
       "      <td>57230</td>\n",
       "      <td>88</td>\n",
       "      <td>7.0</td>\n",
       "      <td>95.0</td>\n",
       "      <td>124.0</td>\n",
       "      <td>0.0</td>\n",
       "    </tr>\n",
       "    <tr>\n",
       "      <th>3</th>\n",
       "      <td>2</td>\n",
       "      <td>1</td>\n",
       "      <td>0</td>\n",
       "      <td>0</td>\n",
       "      <td>0</td>\n",
       "      <td>0</td>\n",
       "      <td>0</td>\n",
       "      <td>1</td>\n",
       "      <td>1</td>\n",
       "      <td>0</td>\n",
       "      <td>...</td>\n",
       "      <td>0.027924</td>\n",
       "      <td>0.153526</td>\n",
       "      <td>0.070156</td>\n",
       "      <td>84</td>\n",
       "      <td>57228</td>\n",
       "      <td>89</td>\n",
       "      <td>7.0</td>\n",
       "      <td>95.0</td>\n",
       "      <td>124.0</td>\n",
       "      <td>0.0</td>\n",
       "    </tr>\n",
       "    <tr>\n",
       "      <th>4</th>\n",
       "      <td>2</td>\n",
       "      <td>1</td>\n",
       "      <td>0</td>\n",
       "      <td>0</td>\n",
       "      <td>0</td>\n",
       "      <td>0</td>\n",
       "      <td>0</td>\n",
       "      <td>1</td>\n",
       "      <td>1</td>\n",
       "      <td>0</td>\n",
       "      <td>...</td>\n",
       "      <td>0.198203</td>\n",
       "      <td>0.622091</td>\n",
       "      <td>0.022829</td>\n",
       "      <td>89</td>\n",
       "      <td>57231</td>\n",
       "      <td>88</td>\n",
       "      <td>7.0</td>\n",
       "      <td>95.0</td>\n",
       "      <td>124.0</td>\n",
       "      <td>0.0</td>\n",
       "    </tr>\n",
       "  </tbody>\n",
       "</table>\n",
       "<p>5 rows × 37 columns</p>\n",
       "</div>"
      ],
      "text/plain": [
       "   driving_style  clear  rain  snow  High  Low  Moderate  None  Dry  \\\n",
       "0              2      1     0     0     0    0         0     1    1   \n",
       "1              2      1     0     0     0    0         0     1    1   \n",
       "2              2      1     0     0     0    0         0     1    1   \n",
       "3              2      1     0     0     0    0         0     1    1   \n",
       "4              2      1     0     0     0    0         0     1    1   \n",
       "\n",
       "   Snow covered  ...  veh_weight_preced  veh_len_preced  time_gap  veh_spd  \\\n",
       "0             0  ...           0.244202        0.291421  0.051782       81   \n",
       "1             0  ...           0.024517        0.155957  0.005568       88   \n",
       "2             0  ...           0.329125        0.554359  0.001670       88   \n",
       "3             0  ...           0.027924        0.153526  0.070156       84   \n",
       "4             0  ...           0.198203        0.622091  0.022829       89   \n",
       "\n",
       "   id_preced  veh_spd_preced  temperature  precipitation_humidity  wind_dir  \\\n",
       "0      57227              87          7.0                    95.0     146.0   \n",
       "1      57229              81          7.0                    95.0     124.0   \n",
       "2      57230              88          7.0                    95.0     124.0   \n",
       "3      57228              89          7.0                    95.0     124.0   \n",
       "4      57231              88          7.0                    95.0     124.0   \n",
       "\n",
       "   wind_spd  \n",
       "0       1.0  \n",
       "1       0.0  \n",
       "2       0.0  \n",
       "3       0.0  \n",
       "4       0.0  \n",
       "\n",
       "[5 rows x 37 columns]"
      ]
     },
     "execution_count": 65,
     "metadata": {},
     "output_type": "execute_result"
    }
   ],
   "source": [
    "final_df.head()"
   ]
  },
  {
   "cell_type": "code",
   "execution_count": 66,
   "metadata": {},
   "outputs": [],
   "source": [
    "final_df.to_csv(\"raw_data/data_final_hyj.csv\")"
   ]
  },
  {
   "cell_type": "code",
   "execution_count": 67,
   "metadata": {},
   "outputs": [
    {
     "data": {
      "text/html": [
       "<div>\n",
       "<style scoped>\n",
       "    .dataframe tbody tr th:only-of-type {\n",
       "        vertical-align: middle;\n",
       "    }\n",
       "\n",
       "    .dataframe tbody tr th {\n",
       "        vertical-align: top;\n",
       "    }\n",
       "\n",
       "    .dataframe thead th {\n",
       "        text-align: right;\n",
       "    }\n",
       "</style>\n",
       "<table border=\"1\" class=\"dataframe\">\n",
       "  <thead>\n",
       "    <tr style=\"text-align: right;\">\n",
       "      <th></th>\n",
       "      <th>driving_style</th>\n",
       "      <th>clear</th>\n",
       "      <th>rain</th>\n",
       "      <th>snow</th>\n",
       "      <th>High</th>\n",
       "      <th>Low</th>\n",
       "      <th>Moderate</th>\n",
       "      <th>None</th>\n",
       "      <th>Dry</th>\n",
       "      <th>Snow covered</th>\n",
       "      <th>...</th>\n",
       "      <th>veh_weight_preced</th>\n",
       "      <th>veh_len_preced</th>\n",
       "      <th>time_gap</th>\n",
       "      <th>veh_spd</th>\n",
       "      <th>id_preced</th>\n",
       "      <th>veh_spd_preced</th>\n",
       "      <th>temperature</th>\n",
       "      <th>precipitation_humidity</th>\n",
       "      <th>wind_dir</th>\n",
       "      <th>wind_spd</th>\n",
       "    </tr>\n",
       "  </thead>\n",
       "  <tbody>\n",
       "    <tr>\n",
       "      <th>0</th>\n",
       "      <td>2</td>\n",
       "      <td>1</td>\n",
       "      <td>0</td>\n",
       "      <td>0</td>\n",
       "      <td>0</td>\n",
       "      <td>0</td>\n",
       "      <td>0</td>\n",
       "      <td>1</td>\n",
       "      <td>1</td>\n",
       "      <td>0</td>\n",
       "      <td>...</td>\n",
       "      <td>0.244202</td>\n",
       "      <td>0.291421</td>\n",
       "      <td>0.051782</td>\n",
       "      <td>81</td>\n",
       "      <td>57227</td>\n",
       "      <td>87</td>\n",
       "      <td>7.0</td>\n",
       "      <td>95.0</td>\n",
       "      <td>146.0</td>\n",
       "      <td>1.0</td>\n",
       "    </tr>\n",
       "    <tr>\n",
       "      <th>1</th>\n",
       "      <td>2</td>\n",
       "      <td>1</td>\n",
       "      <td>0</td>\n",
       "      <td>0</td>\n",
       "      <td>0</td>\n",
       "      <td>0</td>\n",
       "      <td>0</td>\n",
       "      <td>1</td>\n",
       "      <td>1</td>\n",
       "      <td>0</td>\n",
       "      <td>...</td>\n",
       "      <td>0.024517</td>\n",
       "      <td>0.155957</td>\n",
       "      <td>0.005568</td>\n",
       "      <td>88</td>\n",
       "      <td>57229</td>\n",
       "      <td>81</td>\n",
       "      <td>7.0</td>\n",
       "      <td>95.0</td>\n",
       "      <td>124.0</td>\n",
       "      <td>0.0</td>\n",
       "    </tr>\n",
       "    <tr>\n",
       "      <th>2</th>\n",
       "      <td>2</td>\n",
       "      <td>1</td>\n",
       "      <td>0</td>\n",
       "      <td>0</td>\n",
       "      <td>0</td>\n",
       "      <td>0</td>\n",
       "      <td>0</td>\n",
       "      <td>1</td>\n",
       "      <td>1</td>\n",
       "      <td>0</td>\n",
       "      <td>...</td>\n",
       "      <td>0.329125</td>\n",
       "      <td>0.554359</td>\n",
       "      <td>0.001670</td>\n",
       "      <td>88</td>\n",
       "      <td>57230</td>\n",
       "      <td>88</td>\n",
       "      <td>7.0</td>\n",
       "      <td>95.0</td>\n",
       "      <td>124.0</td>\n",
       "      <td>0.0</td>\n",
       "    </tr>\n",
       "    <tr>\n",
       "      <th>3</th>\n",
       "      <td>2</td>\n",
       "      <td>1</td>\n",
       "      <td>0</td>\n",
       "      <td>0</td>\n",
       "      <td>0</td>\n",
       "      <td>0</td>\n",
       "      <td>0</td>\n",
       "      <td>1</td>\n",
       "      <td>1</td>\n",
       "      <td>0</td>\n",
       "      <td>...</td>\n",
       "      <td>0.027924</td>\n",
       "      <td>0.153526</td>\n",
       "      <td>0.070156</td>\n",
       "      <td>84</td>\n",
       "      <td>57228</td>\n",
       "      <td>89</td>\n",
       "      <td>7.0</td>\n",
       "      <td>95.0</td>\n",
       "      <td>124.0</td>\n",
       "      <td>0.0</td>\n",
       "    </tr>\n",
       "    <tr>\n",
       "      <th>4</th>\n",
       "      <td>2</td>\n",
       "      <td>1</td>\n",
       "      <td>0</td>\n",
       "      <td>0</td>\n",
       "      <td>0</td>\n",
       "      <td>0</td>\n",
       "      <td>0</td>\n",
       "      <td>1</td>\n",
       "      <td>1</td>\n",
       "      <td>0</td>\n",
       "      <td>...</td>\n",
       "      <td>0.198203</td>\n",
       "      <td>0.622091</td>\n",
       "      <td>0.022829</td>\n",
       "      <td>89</td>\n",
       "      <td>57231</td>\n",
       "      <td>88</td>\n",
       "      <td>7.0</td>\n",
       "      <td>95.0</td>\n",
       "      <td>124.0</td>\n",
       "      <td>0.0</td>\n",
       "    </tr>\n",
       "  </tbody>\n",
       "</table>\n",
       "<p>5 rows × 37 columns</p>\n",
       "</div>"
      ],
      "text/plain": [
       "   driving_style  clear  rain  snow  High  Low  Moderate  None  Dry  \\\n",
       "0              2      1     0     0     0    0         0     1    1   \n",
       "1              2      1     0     0     0    0         0     1    1   \n",
       "2              2      1     0     0     0    0         0     1    1   \n",
       "3              2      1     0     0     0    0         0     1    1   \n",
       "4              2      1     0     0     0    0         0     1    1   \n",
       "\n",
       "   Snow covered  ...  veh_weight_preced  veh_len_preced  time_gap  veh_spd  \\\n",
       "0             0  ...           0.244202        0.291421  0.051782       81   \n",
       "1             0  ...           0.024517        0.155957  0.005568       88   \n",
       "2             0  ...           0.329125        0.554359  0.001670       88   \n",
       "3             0  ...           0.027924        0.153526  0.070156       84   \n",
       "4             0  ...           0.198203        0.622091  0.022829       89   \n",
       "\n",
       "   id_preced  veh_spd_preced  temperature  precipitation_humidity  wind_dir  \\\n",
       "0      57227              87          7.0                    95.0     146.0   \n",
       "1      57229              81          7.0                    95.0     124.0   \n",
       "2      57230              88          7.0                    95.0     124.0   \n",
       "3      57228              89          7.0                    95.0     124.0   \n",
       "4      57231              88          7.0                    95.0     124.0   \n",
       "\n",
       "   wind_spd  \n",
       "0       1.0  \n",
       "1       0.0  \n",
       "2       0.0  \n",
       "3       0.0  \n",
       "4       0.0  \n",
       "\n",
       "[5 rows x 37 columns]"
      ]
     },
     "execution_count": 67,
     "metadata": {},
     "output_type": "execute_result"
    }
   ],
   "source": [
    "final_df.head()"
   ]
  },
  {
   "cell_type": "code",
   "execution_count": 68,
   "metadata": {},
   "outputs": [
    {
     "data": {
      "text/plain": [
       "Index(['driving_style', 'clear', 'rain', 'snow', 'High', 'Low', 'Moderate',\n",
       "       'None', 'Dry', 'Snow covered', 'Visible tracks', 'Wet', 'daylight',\n",
       "       'night', 'twilight', 'lane1', 'lane2', 'axles2', 'axles3', 'axles4',\n",
       "       'axles5', 'axles6', 'axles7', 'axles8', 'axles9', 'veh_len',\n",
       "       'veh_weight', 'veh_weight_preced', 'veh_len_preced', 'time_gap',\n",
       "       'veh_spd', 'id_preced', 'veh_spd_preced', 'temperature',\n",
       "       'precipitation_humidity', 'wind_dir', 'wind_spd'],\n",
       "      dtype='object')"
      ]
     },
     "execution_count": 68,
     "metadata": {},
     "output_type": "execute_result"
    }
   ],
   "source": [
    "final_df.columns"
   ]
  },
  {
   "cell_type": "code",
   "execution_count": null,
   "metadata": {},
   "outputs": [],
   "source": []
  },
  {
   "cell_type": "code",
   "execution_count": null,
   "metadata": {},
   "outputs": [],
   "source": [
    "import boto3\n",
    "import sagemaker\n",
    "\n",
    "from sagemaker import get_execution_role\n",
    "\n",
    "role = get_execution_role()\n",
    "\n",
    "account_id = role.split(':')[4]\n",
    "region = boto3.Session().region_name\n",
    "sess = sagemaker.session.Session()\n",
    "bucket = sess.default_bucket()\n",
    "\n",
    "print('Account: {}'.format(account_id))\n",
    "print('Region: {}'.format(region))\n",
    "print('Role: {}'.format(role))\n",
    "print('S3 Bucket: {}'.format(bucket))"
   ]
  },
  {
   "cell_type": "code",
   "execution_count": null,
   "metadata": {},
   "outputs": [],
   "source": [
    "PreprocessCodeS3Uri = \"s3://drivingdata/data_raw/data_final_hyj.csv\"\n",
    "!aws s3 cp 'raw_data/data_final_hyj.csv' $PreprocessCodeS3Uri"
   ]
  },
  {
   "cell_type": "code",
   "execution_count": null,
   "metadata": {},
   "outputs": [],
   "source": []
  },
  {
   "cell_type": "code",
   "execution_count": null,
   "metadata": {},
   "outputs": [],
   "source": []
  }
 ],
 "metadata": {
  "kernelspec": {
   "display_name": "Python 3",
   "language": "python",
   "name": "python3"
  },
  "language_info": {
   "codemirror_mode": {
    "name": "ipython",
    "version": 3
   },
   "file_extension": ".py",
   "mimetype": "text/x-python",
   "name": "python",
   "nbconvert_exporter": "python",
   "pygments_lexer": "ipython3",
   "version": "3.8.3"
  }
 },
 "nbformat": 4,
 "nbformat_minor": 5
}
